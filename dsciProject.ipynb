{
 "cells": [
  {
   "cell_type": "markdown",
   "metadata": {},
   "source": [
    "# NOTE "
   ]
  },
  {
   "cell_type": "code",
   "execution_count": null,
   "metadata": {},
   "outputs": [],
   "source": [
    "# results in this notebook may be slightly different than report as multiple notebooks\n",
    "#    over the period of a semester were combined and rerun in this "
   ]
  },
  {
   "cell_type": "markdown",
   "metadata": {},
   "source": []
  },
  {
   "cell_type": "code",
   "execution_count": 1,
   "metadata": {},
   "outputs": [
    {
     "data": {
      "text/html": [
       "<div>\n",
       "<style scoped>\n",
       "    .dataframe tbody tr th:only-of-type {\n",
       "        vertical-align: middle;\n",
       "    }\n",
       "\n",
       "    .dataframe tbody tr th {\n",
       "        vertical-align: top;\n",
       "    }\n",
       "\n",
       "    .dataframe thead th {\n",
       "        text-align: right;\n",
       "    }\n",
       "</style>\n",
       "<table border=\"1\" class=\"dataframe\">\n",
       "  <thead>\n",
       "    <tr style=\"text-align: right;\">\n",
       "      <th></th>\n",
       "      <th>Date</th>\n",
       "      <th>Rented Bike Count</th>\n",
       "      <th>Hour</th>\n",
       "      <th>Temperature(°C)</th>\n",
       "      <th>Humidity(%)</th>\n",
       "      <th>Wind speed (m/s)</th>\n",
       "      <th>Visibility (10m)</th>\n",
       "      <th>Dew point temperature(°C)</th>\n",
       "      <th>Solar Radiation (MJ/m2)</th>\n",
       "      <th>Rainfall(mm)</th>\n",
       "      <th>Snowfall (cm)</th>\n",
       "      <th>Seasons</th>\n",
       "      <th>Holiday</th>\n",
       "      <th>Functioning Day</th>\n",
       "    </tr>\n",
       "  </thead>\n",
       "  <tbody>\n",
       "    <tr>\n",
       "      <th>0</th>\n",
       "      <td>01/12/2017</td>\n",
       "      <td>254</td>\n",
       "      <td>0</td>\n",
       "      <td>-5.2</td>\n",
       "      <td>37</td>\n",
       "      <td>2.2</td>\n",
       "      <td>2000</td>\n",
       "      <td>-17.6</td>\n",
       "      <td>0.0</td>\n",
       "      <td>0.0</td>\n",
       "      <td>0.0</td>\n",
       "      <td>Winter</td>\n",
       "      <td>No Holiday</td>\n",
       "      <td>Yes</td>\n",
       "    </tr>\n",
       "    <tr>\n",
       "      <th>1</th>\n",
       "      <td>01/12/2017</td>\n",
       "      <td>204</td>\n",
       "      <td>1</td>\n",
       "      <td>-5.5</td>\n",
       "      <td>38</td>\n",
       "      <td>0.8</td>\n",
       "      <td>2000</td>\n",
       "      <td>-17.6</td>\n",
       "      <td>0.0</td>\n",
       "      <td>0.0</td>\n",
       "      <td>0.0</td>\n",
       "      <td>Winter</td>\n",
       "      <td>No Holiday</td>\n",
       "      <td>Yes</td>\n",
       "    </tr>\n",
       "    <tr>\n",
       "      <th>2</th>\n",
       "      <td>01/12/2017</td>\n",
       "      <td>173</td>\n",
       "      <td>2</td>\n",
       "      <td>-6.0</td>\n",
       "      <td>39</td>\n",
       "      <td>1.0</td>\n",
       "      <td>2000</td>\n",
       "      <td>-17.7</td>\n",
       "      <td>0.0</td>\n",
       "      <td>0.0</td>\n",
       "      <td>0.0</td>\n",
       "      <td>Winter</td>\n",
       "      <td>No Holiday</td>\n",
       "      <td>Yes</td>\n",
       "    </tr>\n",
       "    <tr>\n",
       "      <th>3</th>\n",
       "      <td>01/12/2017</td>\n",
       "      <td>107</td>\n",
       "      <td>3</td>\n",
       "      <td>-6.2</td>\n",
       "      <td>40</td>\n",
       "      <td>0.9</td>\n",
       "      <td>2000</td>\n",
       "      <td>-17.6</td>\n",
       "      <td>0.0</td>\n",
       "      <td>0.0</td>\n",
       "      <td>0.0</td>\n",
       "      <td>Winter</td>\n",
       "      <td>No Holiday</td>\n",
       "      <td>Yes</td>\n",
       "    </tr>\n",
       "    <tr>\n",
       "      <th>4</th>\n",
       "      <td>01/12/2017</td>\n",
       "      <td>78</td>\n",
       "      <td>4</td>\n",
       "      <td>-6.0</td>\n",
       "      <td>36</td>\n",
       "      <td>2.3</td>\n",
       "      <td>2000</td>\n",
       "      <td>-18.6</td>\n",
       "      <td>0.0</td>\n",
       "      <td>0.0</td>\n",
       "      <td>0.0</td>\n",
       "      <td>Winter</td>\n",
       "      <td>No Holiday</td>\n",
       "      <td>Yes</td>\n",
       "    </tr>\n",
       "  </tbody>\n",
       "</table>\n",
       "</div>"
      ],
      "text/plain": [
       "         Date  Rented Bike Count  Hour  Temperature(°C)  Humidity(%)  \\\n",
       "0  01/12/2017                254     0             -5.2           37   \n",
       "1  01/12/2017                204     1             -5.5           38   \n",
       "2  01/12/2017                173     2             -6.0           39   \n",
       "3  01/12/2017                107     3             -6.2           40   \n",
       "4  01/12/2017                 78     4             -6.0           36   \n",
       "\n",
       "   Wind speed (m/s)  Visibility (10m)  Dew point temperature(°C)  \\\n",
       "0               2.2              2000                      -17.6   \n",
       "1               0.8              2000                      -17.6   \n",
       "2               1.0              2000                      -17.7   \n",
       "3               0.9              2000                      -17.6   \n",
       "4               2.3              2000                      -18.6   \n",
       "\n",
       "   Solar Radiation (MJ/m2)  Rainfall(mm)  Snowfall (cm) Seasons     Holiday  \\\n",
       "0                      0.0           0.0            0.0  Winter  No Holiday   \n",
       "1                      0.0           0.0            0.0  Winter  No Holiday   \n",
       "2                      0.0           0.0            0.0  Winter  No Holiday   \n",
       "3                      0.0           0.0            0.0  Winter  No Holiday   \n",
       "4                      0.0           0.0            0.0  Winter  No Holiday   \n",
       "\n",
       "  Functioning Day  \n",
       "0             Yes  \n",
       "1             Yes  \n",
       "2             Yes  \n",
       "3             Yes  \n",
       "4             Yes  "
      ]
     },
     "execution_count": 1,
     "metadata": {},
     "output_type": "execute_result"
    }
   ],
   "source": [
    "import pandas as pd\n",
    "import seaborn as sea\n",
    "from pandas import read_csv\n",
    "from pandas import set_option\n",
    "from numpy import unique\n",
    "from matplotlib import pyplot\n",
    "from numpy import set_printoptions\n",
    "\n",
    "# read the data and create a data frame\n",
    "fileName = \"/Users/mtjen/Desktop/dsci/SKbike.csv\"\n",
    "bikesDF = read_csv(fileName, encoding = 'unicode_escape')\n",
    "\n",
    "# see the head of the data\n",
    "bikesDF.head()"
   ]
  },
  {
   "cell_type": "code",
   "execution_count": 2,
   "metadata": {},
   "outputs": [
    {
     "data": {
      "text/plain": [
       "(8760, 14)"
      ]
     },
     "execution_count": 2,
     "metadata": {},
     "output_type": "execute_result"
    }
   ],
   "source": [
    "# see the shape of the data\n",
    "bikesDF.shape"
   ]
  },
  {
   "cell_type": "code",
   "execution_count": 3,
   "metadata": {},
   "outputs": [
    {
     "data": {
      "text/html": [
       "<div>\n",
       "<style scoped>\n",
       "    .dataframe tbody tr th:only-of-type {\n",
       "        vertical-align: middle;\n",
       "    }\n",
       "\n",
       "    .dataframe tbody tr th {\n",
       "        vertical-align: top;\n",
       "    }\n",
       "\n",
       "    .dataframe thead th {\n",
       "        text-align: right;\n",
       "    }\n",
       "</style>\n",
       "<table border=\"1\" class=\"dataframe\">\n",
       "  <thead>\n",
       "    <tr style=\"text-align: right;\">\n",
       "      <th></th>\n",
       "      <th>Date</th>\n",
       "      <th>Hour</th>\n",
       "      <th>Temperature(°C)</th>\n",
       "      <th>Humidity(%)</th>\n",
       "      <th>Wind speed (m/s)</th>\n",
       "      <th>Visibility (10m)</th>\n",
       "      <th>Dew point temperature(°C)</th>\n",
       "      <th>Solar Radiation (MJ/m2)</th>\n",
       "      <th>Rainfall(mm)</th>\n",
       "      <th>Snowfall (cm)</th>\n",
       "      <th>Seasons</th>\n",
       "      <th>Holiday</th>\n",
       "      <th>Functioning Day</th>\n",
       "      <th>Rented Bike Count</th>\n",
       "    </tr>\n",
       "  </thead>\n",
       "  <tbody>\n",
       "    <tr>\n",
       "      <th>0</th>\n",
       "      <td>01/12/2017</td>\n",
       "      <td>0</td>\n",
       "      <td>-5.2</td>\n",
       "      <td>37</td>\n",
       "      <td>2.2</td>\n",
       "      <td>2000</td>\n",
       "      <td>-17.6</td>\n",
       "      <td>0.0</td>\n",
       "      <td>0.0</td>\n",
       "      <td>0.0</td>\n",
       "      <td>Winter</td>\n",
       "      <td>No Holiday</td>\n",
       "      <td>Yes</td>\n",
       "      <td>254</td>\n",
       "    </tr>\n",
       "    <tr>\n",
       "      <th>1</th>\n",
       "      <td>01/12/2017</td>\n",
       "      <td>1</td>\n",
       "      <td>-5.5</td>\n",
       "      <td>38</td>\n",
       "      <td>0.8</td>\n",
       "      <td>2000</td>\n",
       "      <td>-17.6</td>\n",
       "      <td>0.0</td>\n",
       "      <td>0.0</td>\n",
       "      <td>0.0</td>\n",
       "      <td>Winter</td>\n",
       "      <td>No Holiday</td>\n",
       "      <td>Yes</td>\n",
       "      <td>204</td>\n",
       "    </tr>\n",
       "    <tr>\n",
       "      <th>2</th>\n",
       "      <td>01/12/2017</td>\n",
       "      <td>2</td>\n",
       "      <td>-6.0</td>\n",
       "      <td>39</td>\n",
       "      <td>1.0</td>\n",
       "      <td>2000</td>\n",
       "      <td>-17.7</td>\n",
       "      <td>0.0</td>\n",
       "      <td>0.0</td>\n",
       "      <td>0.0</td>\n",
       "      <td>Winter</td>\n",
       "      <td>No Holiday</td>\n",
       "      <td>Yes</td>\n",
       "      <td>173</td>\n",
       "    </tr>\n",
       "    <tr>\n",
       "      <th>3</th>\n",
       "      <td>01/12/2017</td>\n",
       "      <td>3</td>\n",
       "      <td>-6.2</td>\n",
       "      <td>40</td>\n",
       "      <td>0.9</td>\n",
       "      <td>2000</td>\n",
       "      <td>-17.6</td>\n",
       "      <td>0.0</td>\n",
       "      <td>0.0</td>\n",
       "      <td>0.0</td>\n",
       "      <td>Winter</td>\n",
       "      <td>No Holiday</td>\n",
       "      <td>Yes</td>\n",
       "      <td>107</td>\n",
       "    </tr>\n",
       "    <tr>\n",
       "      <th>4</th>\n",
       "      <td>01/12/2017</td>\n",
       "      <td>4</td>\n",
       "      <td>-6.0</td>\n",
       "      <td>36</td>\n",
       "      <td>2.3</td>\n",
       "      <td>2000</td>\n",
       "      <td>-18.6</td>\n",
       "      <td>0.0</td>\n",
       "      <td>0.0</td>\n",
       "      <td>0.0</td>\n",
       "      <td>Winter</td>\n",
       "      <td>No Holiday</td>\n",
       "      <td>Yes</td>\n",
       "      <td>78</td>\n",
       "    </tr>\n",
       "  </tbody>\n",
       "</table>\n",
       "</div>"
      ],
      "text/plain": [
       "         Date  Hour  Temperature(°C)  Humidity(%)  Wind speed (m/s)  \\\n",
       "0  01/12/2017     0             -5.2           37               2.2   \n",
       "1  01/12/2017     1             -5.5           38               0.8   \n",
       "2  01/12/2017     2             -6.0           39               1.0   \n",
       "3  01/12/2017     3             -6.2           40               0.9   \n",
       "4  01/12/2017     4             -6.0           36               2.3   \n",
       "\n",
       "   Visibility (10m)  Dew point temperature(°C)  Solar Radiation (MJ/m2)  \\\n",
       "0              2000                      -17.6                      0.0   \n",
       "1              2000                      -17.6                      0.0   \n",
       "2              2000                      -17.7                      0.0   \n",
       "3              2000                      -17.6                      0.0   \n",
       "4              2000                      -18.6                      0.0   \n",
       "\n",
       "   Rainfall(mm)  Snowfall (cm) Seasons     Holiday Functioning Day  \\\n",
       "0           0.0            0.0  Winter  No Holiday             Yes   \n",
       "1           0.0            0.0  Winter  No Holiday             Yes   \n",
       "2           0.0            0.0  Winter  No Holiday             Yes   \n",
       "3           0.0            0.0  Winter  No Holiday             Yes   \n",
       "4           0.0            0.0  Winter  No Holiday             Yes   \n",
       "\n",
       "   Rented Bike Count  \n",
       "0                254  \n",
       "1                204  \n",
       "2                173  \n",
       "3                107  \n",
       "4                 78  "
      ]
     },
     "execution_count": 3,
     "metadata": {},
     "output_type": "execute_result"
    }
   ],
   "source": [
    "# move target feature to end of data frame\n",
    "col = bikesDF.pop('Rented Bike Count')\n",
    "bikesDF.insert(13, 'Rented Bike Count', col)\n",
    "bikesDF.head()"
   ]
  },
  {
   "cell_type": "code",
   "execution_count": 4,
   "metadata": {},
   "outputs": [
    {
     "name": "stdout",
     "output_type": "stream",
     "text": [
      "Date                         0\n",
      "Hour                         0\n",
      "Temperature(°C)              0\n",
      "Humidity(%)                  0\n",
      "Wind speed (m/s)             0\n",
      "Visibility (10m)             0\n",
      "Dew point temperature(°C)    0\n",
      "Solar Radiation (MJ/m2)      0\n",
      "Rainfall(mm)                 0\n",
      "Snowfall (cm)                0\n",
      "Seasons                      0\n",
      "Holiday                      0\n",
      "Functioning Day              0\n",
      "Rented Bike Count            0\n",
      "dtype: int64\n"
     ]
    }
   ],
   "source": [
    "# check if there are any null values\n",
    "isNullValues = bikesDF.isnull().sum()\n",
    "print(isNullValues)"
   ]
  },
  {
   "cell_type": "code",
   "execution_count": 5,
   "metadata": {},
   "outputs": [
    {
     "name": "stdout",
     "output_type": "stream",
     "text": [
      "Date                          object\n",
      "Hour                           int64\n",
      "Temperature(°C)              float64\n",
      "Humidity(%)                    int64\n",
      "Wind speed (m/s)             float64\n",
      "Visibility (10m)               int64\n",
      "Dew point temperature(°C)    float64\n",
      "Solar Radiation (MJ/m2)      float64\n",
      "Rainfall(mm)                 float64\n",
      "Snowfall (cm)                float64\n",
      "Seasons                       object\n",
      "Holiday                       object\n",
      "Functioning Day               object\n",
      "Rented Bike Count              int64\n",
      "dtype: object\n"
     ]
    }
   ],
   "source": [
    "# check the data types\n",
    "types = bikesDF.dtypes\n",
    "print(types)"
   ]
  },
  {
   "cell_type": "code",
   "execution_count": 6,
   "metadata": {},
   "outputs": [
    {
     "data": {
      "text/html": [
       "<div>\n",
       "<style scoped>\n",
       "    .dataframe tbody tr th:only-of-type {\n",
       "        vertical-align: middle;\n",
       "    }\n",
       "\n",
       "    .dataframe tbody tr th {\n",
       "        vertical-align: top;\n",
       "    }\n",
       "\n",
       "    .dataframe thead th {\n",
       "        text-align: right;\n",
       "    }\n",
       "</style>\n",
       "<table border=\"1\" class=\"dataframe\">\n",
       "  <thead>\n",
       "    <tr style=\"text-align: right;\">\n",
       "      <th></th>\n",
       "      <th>Date</th>\n",
       "      <th>Hour</th>\n",
       "      <th>Temperature(°C)</th>\n",
       "      <th>Humidity(%)</th>\n",
       "      <th>Wind speed (m/s)</th>\n",
       "      <th>Visibility (10m)</th>\n",
       "      <th>Dew point temperature(°C)</th>\n",
       "      <th>Solar Radiation (MJ/m2)</th>\n",
       "      <th>Rainfall(mm)</th>\n",
       "      <th>Snowfall (cm)</th>\n",
       "      <th>Seasons</th>\n",
       "      <th>Holiday</th>\n",
       "      <th>Functioning Day</th>\n",
       "      <th>Rented Bike Count</th>\n",
       "    </tr>\n",
       "  </thead>\n",
       "  <tbody>\n",
       "    <tr>\n",
       "      <th>0</th>\n",
       "      <td>01/12/2017</td>\n",
       "      <td>0</td>\n",
       "      <td>-5.2</td>\n",
       "      <td>37</td>\n",
       "      <td>2.2</td>\n",
       "      <td>2000</td>\n",
       "      <td>-17.6</td>\n",
       "      <td>0.0</td>\n",
       "      <td>0.0</td>\n",
       "      <td>0.0</td>\n",
       "      <td>1</td>\n",
       "      <td>0</td>\n",
       "      <td>1</td>\n",
       "      <td>254</td>\n",
       "    </tr>\n",
       "    <tr>\n",
       "      <th>1</th>\n",
       "      <td>01/12/2017</td>\n",
       "      <td>1</td>\n",
       "      <td>-5.5</td>\n",
       "      <td>38</td>\n",
       "      <td>0.8</td>\n",
       "      <td>2000</td>\n",
       "      <td>-17.6</td>\n",
       "      <td>0.0</td>\n",
       "      <td>0.0</td>\n",
       "      <td>0.0</td>\n",
       "      <td>1</td>\n",
       "      <td>0</td>\n",
       "      <td>1</td>\n",
       "      <td>204</td>\n",
       "    </tr>\n",
       "    <tr>\n",
       "      <th>2</th>\n",
       "      <td>01/12/2017</td>\n",
       "      <td>2</td>\n",
       "      <td>-6.0</td>\n",
       "      <td>39</td>\n",
       "      <td>1.0</td>\n",
       "      <td>2000</td>\n",
       "      <td>-17.7</td>\n",
       "      <td>0.0</td>\n",
       "      <td>0.0</td>\n",
       "      <td>0.0</td>\n",
       "      <td>1</td>\n",
       "      <td>0</td>\n",
       "      <td>1</td>\n",
       "      <td>173</td>\n",
       "    </tr>\n",
       "    <tr>\n",
       "      <th>3</th>\n",
       "      <td>01/12/2017</td>\n",
       "      <td>3</td>\n",
       "      <td>-6.2</td>\n",
       "      <td>40</td>\n",
       "      <td>0.9</td>\n",
       "      <td>2000</td>\n",
       "      <td>-17.6</td>\n",
       "      <td>0.0</td>\n",
       "      <td>0.0</td>\n",
       "      <td>0.0</td>\n",
       "      <td>1</td>\n",
       "      <td>0</td>\n",
       "      <td>1</td>\n",
       "      <td>107</td>\n",
       "    </tr>\n",
       "    <tr>\n",
       "      <th>4</th>\n",
       "      <td>01/12/2017</td>\n",
       "      <td>4</td>\n",
       "      <td>-6.0</td>\n",
       "      <td>36</td>\n",
       "      <td>2.3</td>\n",
       "      <td>2000</td>\n",
       "      <td>-18.6</td>\n",
       "      <td>0.0</td>\n",
       "      <td>0.0</td>\n",
       "      <td>0.0</td>\n",
       "      <td>1</td>\n",
       "      <td>0</td>\n",
       "      <td>1</td>\n",
       "      <td>78</td>\n",
       "    </tr>\n",
       "  </tbody>\n",
       "</table>\n",
       "</div>"
      ],
      "text/plain": [
       "         Date  Hour  Temperature(°C)  Humidity(%)  Wind speed (m/s)  \\\n",
       "0  01/12/2017     0             -5.2           37               2.2   \n",
       "1  01/12/2017     1             -5.5           38               0.8   \n",
       "2  01/12/2017     2             -6.0           39               1.0   \n",
       "3  01/12/2017     3             -6.2           40               0.9   \n",
       "4  01/12/2017     4             -6.0           36               2.3   \n",
       "\n",
       "   Visibility (10m)  Dew point temperature(°C)  Solar Radiation (MJ/m2)  \\\n",
       "0              2000                      -17.6                      0.0   \n",
       "1              2000                      -17.6                      0.0   \n",
       "2              2000                      -17.7                      0.0   \n",
       "3              2000                      -17.6                      0.0   \n",
       "4              2000                      -18.6                      0.0   \n",
       "\n",
       "   Rainfall(mm)  Snowfall (cm)  Seasons  Holiday  Functioning Day  \\\n",
       "0           0.0            0.0        1        0                1   \n",
       "1           0.0            0.0        1        0                1   \n",
       "2           0.0            0.0        1        0                1   \n",
       "3           0.0            0.0        1        0                1   \n",
       "4           0.0            0.0        1        0                1   \n",
       "\n",
       "   Rented Bike Count  \n",
       "0                254  \n",
       "1                204  \n",
       "2                173  \n",
       "3                107  \n",
       "4                 78  "
      ]
     },
     "execution_count": 6,
     "metadata": {},
     "output_type": "execute_result"
    }
   ],
   "source": [
    "# replace string values with numerical boolean values\n",
    "bikesDF = bikesDF.replace(['No Holiday', 'Holiday', 'Winter', 'Spring', \n",
    "                           'Summer', 'Autumn', 'No', 'Yes'], \n",
    "                          [0, 1, 1, 2, 3, 4, 0, 1])\n",
    "bikesDF.head()"
   ]
  },
  {
   "cell_type": "code",
   "execution_count": 7,
   "metadata": {},
   "outputs": [
    {
     "data": {
      "text/html": [
       "<div>\n",
       "<style scoped>\n",
       "    .dataframe tbody tr th:only-of-type {\n",
       "        vertical-align: middle;\n",
       "    }\n",
       "\n",
       "    .dataframe tbody tr th {\n",
       "        vertical-align: top;\n",
       "    }\n",
       "\n",
       "    .dataframe thead th {\n",
       "        text-align: right;\n",
       "    }\n",
       "</style>\n",
       "<table border=\"1\" class=\"dataframe\">\n",
       "  <thead>\n",
       "    <tr style=\"text-align: right;\">\n",
       "      <th></th>\n",
       "      <th>Hour</th>\n",
       "      <th>Temperature(°C)</th>\n",
       "      <th>Humidity(%)</th>\n",
       "      <th>Wind speed (m/s)</th>\n",
       "      <th>Visibility (10m)</th>\n",
       "      <th>Dew point temperature(°C)</th>\n",
       "      <th>Solar Radiation (MJ/m2)</th>\n",
       "      <th>Rainfall(mm)</th>\n",
       "      <th>Snowfall (cm)</th>\n",
       "      <th>Seasons</th>\n",
       "      <th>Holiday</th>\n",
       "      <th>Functioning Day</th>\n",
       "      <th>Rented Bike Count</th>\n",
       "    </tr>\n",
       "  </thead>\n",
       "  <tbody>\n",
       "    <tr>\n",
       "      <th>count</th>\n",
       "      <td>8760.00</td>\n",
       "      <td>8760.00</td>\n",
       "      <td>8760.00</td>\n",
       "      <td>8760.00</td>\n",
       "      <td>8760.00</td>\n",
       "      <td>8760.00</td>\n",
       "      <td>8760.00</td>\n",
       "      <td>8760.00</td>\n",
       "      <td>8760.00</td>\n",
       "      <td>8760.00</td>\n",
       "      <td>8760.00</td>\n",
       "      <td>8760.00</td>\n",
       "      <td>8760.00</td>\n",
       "    </tr>\n",
       "    <tr>\n",
       "      <th>mean</th>\n",
       "      <td>11.50</td>\n",
       "      <td>12.88</td>\n",
       "      <td>58.23</td>\n",
       "      <td>1.72</td>\n",
       "      <td>1436.83</td>\n",
       "      <td>4.07</td>\n",
       "      <td>0.57</td>\n",
       "      <td>0.15</td>\n",
       "      <td>0.08</td>\n",
       "      <td>2.50</td>\n",
       "      <td>0.05</td>\n",
       "      <td>0.97</td>\n",
       "      <td>704.60</td>\n",
       "    </tr>\n",
       "    <tr>\n",
       "      <th>std</th>\n",
       "      <td>6.92</td>\n",
       "      <td>11.94</td>\n",
       "      <td>20.36</td>\n",
       "      <td>1.04</td>\n",
       "      <td>608.30</td>\n",
       "      <td>13.06</td>\n",
       "      <td>0.87</td>\n",
       "      <td>1.13</td>\n",
       "      <td>0.44</td>\n",
       "      <td>1.11</td>\n",
       "      <td>0.22</td>\n",
       "      <td>0.18</td>\n",
       "      <td>645.00</td>\n",
       "    </tr>\n",
       "    <tr>\n",
       "      <th>min</th>\n",
       "      <td>0.00</td>\n",
       "      <td>-17.80</td>\n",
       "      <td>0.00</td>\n",
       "      <td>0.00</td>\n",
       "      <td>27.00</td>\n",
       "      <td>-30.60</td>\n",
       "      <td>0.00</td>\n",
       "      <td>0.00</td>\n",
       "      <td>0.00</td>\n",
       "      <td>1.00</td>\n",
       "      <td>0.00</td>\n",
       "      <td>0.00</td>\n",
       "      <td>0.00</td>\n",
       "    </tr>\n",
       "    <tr>\n",
       "      <th>25%</th>\n",
       "      <td>5.75</td>\n",
       "      <td>3.50</td>\n",
       "      <td>42.00</td>\n",
       "      <td>0.90</td>\n",
       "      <td>940.00</td>\n",
       "      <td>-4.70</td>\n",
       "      <td>0.00</td>\n",
       "      <td>0.00</td>\n",
       "      <td>0.00</td>\n",
       "      <td>2.00</td>\n",
       "      <td>0.00</td>\n",
       "      <td>1.00</td>\n",
       "      <td>191.00</td>\n",
       "    </tr>\n",
       "    <tr>\n",
       "      <th>50%</th>\n",
       "      <td>11.50</td>\n",
       "      <td>13.70</td>\n",
       "      <td>57.00</td>\n",
       "      <td>1.50</td>\n",
       "      <td>1698.00</td>\n",
       "      <td>5.10</td>\n",
       "      <td>0.01</td>\n",
       "      <td>0.00</td>\n",
       "      <td>0.00</td>\n",
       "      <td>3.00</td>\n",
       "      <td>0.00</td>\n",
       "      <td>1.00</td>\n",
       "      <td>504.50</td>\n",
       "    </tr>\n",
       "    <tr>\n",
       "      <th>75%</th>\n",
       "      <td>17.25</td>\n",
       "      <td>22.50</td>\n",
       "      <td>74.00</td>\n",
       "      <td>2.30</td>\n",
       "      <td>2000.00</td>\n",
       "      <td>14.80</td>\n",
       "      <td>0.93</td>\n",
       "      <td>0.00</td>\n",
       "      <td>0.00</td>\n",
       "      <td>3.00</td>\n",
       "      <td>0.00</td>\n",
       "      <td>1.00</td>\n",
       "      <td>1065.25</td>\n",
       "    </tr>\n",
       "    <tr>\n",
       "      <th>max</th>\n",
       "      <td>23.00</td>\n",
       "      <td>39.40</td>\n",
       "      <td>98.00</td>\n",
       "      <td>7.40</td>\n",
       "      <td>2000.00</td>\n",
       "      <td>27.20</td>\n",
       "      <td>3.52</td>\n",
       "      <td>35.00</td>\n",
       "      <td>8.80</td>\n",
       "      <td>4.00</td>\n",
       "      <td>1.00</td>\n",
       "      <td>1.00</td>\n",
       "      <td>3556.00</td>\n",
       "    </tr>\n",
       "  </tbody>\n",
       "</table>\n",
       "</div>"
      ],
      "text/plain": [
       "          Hour  Temperature(°C)  Humidity(%)  Wind speed (m/s)  \\\n",
       "count  8760.00          8760.00      8760.00           8760.00   \n",
       "mean     11.50            12.88        58.23              1.72   \n",
       "std       6.92            11.94        20.36              1.04   \n",
       "min       0.00           -17.80         0.00              0.00   \n",
       "25%       5.75             3.50        42.00              0.90   \n",
       "50%      11.50            13.70        57.00              1.50   \n",
       "75%      17.25            22.50        74.00              2.30   \n",
       "max      23.00            39.40        98.00              7.40   \n",
       "\n",
       "       Visibility (10m)  Dew point temperature(°C)  Solar Radiation (MJ/m2)  \\\n",
       "count           8760.00                    8760.00                  8760.00   \n",
       "mean            1436.83                       4.07                     0.57   \n",
       "std              608.30                      13.06                     0.87   \n",
       "min               27.00                     -30.60                     0.00   \n",
       "25%              940.00                      -4.70                     0.00   \n",
       "50%             1698.00                       5.10                     0.01   \n",
       "75%             2000.00                      14.80                     0.93   \n",
       "max             2000.00                      27.20                     3.52   \n",
       "\n",
       "       Rainfall(mm)  Snowfall (cm)  Seasons  Holiday  Functioning Day  \\\n",
       "count       8760.00        8760.00  8760.00  8760.00          8760.00   \n",
       "mean           0.15           0.08     2.50     0.05             0.97   \n",
       "std            1.13           0.44     1.11     0.22             0.18   \n",
       "min            0.00           0.00     1.00     0.00             0.00   \n",
       "25%            0.00           0.00     2.00     0.00             1.00   \n",
       "50%            0.00           0.00     3.00     0.00             1.00   \n",
       "75%            0.00           0.00     3.00     0.00             1.00   \n",
       "max           35.00           8.80     4.00     1.00             1.00   \n",
       "\n",
       "       Rented Bike Count  \n",
       "count            8760.00  \n",
       "mean              704.60  \n",
       "std               645.00  \n",
       "min                 0.00  \n",
       "25%               191.00  \n",
       "50%               504.50  \n",
       "75%              1065.25  \n",
       "max              3556.00  "
      ]
     },
     "execution_count": 7,
     "metadata": {},
     "output_type": "execute_result"
    }
   ],
   "source": [
    "# see descriptive statistics\n",
    "set_option('precision', 2)\n",
    "bikesDF.describe()"
   ]
  },
  {
   "cell_type": "code",
   "execution_count": 8,
   "metadata": {},
   "outputs": [
    {
     "data": {
      "text/plain": [
       "<AxesSubplot:>"
      ]
     },
     "execution_count": 8,
     "metadata": {},
     "output_type": "execute_result"
    },
    {
     "data": {
      "image/png": "[encoded data removed]",
      "text/plain": [
       "<Figure size 432x288 with 2 Axes>"
      ]
     },
     "metadata": {
      "needs_background": "light"
     },
     "output_type": "display_data"
    }
   ],
   "source": [
    "# create a correlation heatmap\n",
    "sea.heatmap(bikesDF.corr(), annot = True, fmt = '0.1g', vmin = -1, vmax = 1, center = 0)"
   ]
  },
  {
   "cell_type": "code",
   "execution_count": 9,
   "metadata": {},
   "outputs": [
    {
     "data": {
      "text/plain": [
       "<AxesSubplot:>"
      ]
     },
     "execution_count": 9,
     "metadata": {},
     "output_type": "execute_result"
    },
    {
     "data": {
      "image/png": "[encoded data removed]",
      "text/plain": [
       "<Figure size 432x288 with 2 Axes>"
      ]
     },
     "metadata": {
      "needs_background": "light"
     },
     "output_type": "display_data"
    }
   ],
   "source": [
    "# remove features with high correlation values or provide little value considering other features\n",
    "bikesDF = bikesDF.drop(columns = [\"Date\", \"Dew point temperature(°C)\"])\n",
    "sea.heatmap(bikesDF.corr(), annot = True, fmt = '0.1g', vmin = -1, vmax = 1, center = 0)"
   ]
  },
  {
   "cell_type": "code",
   "execution_count": 10,
   "metadata": {},
   "outputs": [
    {
     "name": "stdout",
     "output_type": "stream",
     "text": [
      "0, 24, 0.273972602739726\n",
      "1, 546, 6.232876712328768\n",
      "2, 90, 1.0273972602739725\n",
      "3, 65, 0.7420091324200913\n",
      "4, 1789, 20.422374429223744\n",
      "5, 345, 3.9383561643835616\n",
      "6, 61, 0.6963470319634704\n",
      "7, 51, 0.5821917808219178\n",
      "8, 4, 0.045662100456621\n",
      "9, 2, 0.0228310502283105\n",
      "10, 2, 0.0228310502283105\n",
      "11, 2166, 24.726027397260275\n"
     ]
    }
   ],
   "source": [
    "# summarize the percentage of unique values for each feature\n",
    "for i in range (bikesDF.shape[1]):\n",
    "    numOccurences = len(unique(bikesDF.iloc[:,i]))\n",
    "    percent = float(numOccurences) / bikesDF.shape[0] * 100\n",
    "    print('{}, {}, {}'.format(i, numOccurences, percent))"
   ]
  },
  {
   "cell_type": "code",
   "execution_count": 11,
   "metadata": {},
   "outputs": [
    {
     "data": {
      "text/html": [
       "<div>\n",
       "<style scoped>\n",
       "    .dataframe tbody tr th:only-of-type {\n",
       "        vertical-align: middle;\n",
       "    }\n",
       "\n",
       "    .dataframe tbody tr th {\n",
       "        vertical-align: top;\n",
       "    }\n",
       "\n",
       "    .dataframe thead th {\n",
       "        text-align: right;\n",
       "    }\n",
       "</style>\n",
       "<table border=\"1\" class=\"dataframe\">\n",
       "  <thead>\n",
       "    <tr style=\"text-align: right;\">\n",
       "      <th></th>\n",
       "      <th>Hour</th>\n",
       "      <th>Temperature(°C)</th>\n",
       "      <th>Humidity(%)</th>\n",
       "      <th>Wind speed (m/s)</th>\n",
       "      <th>Visibility (10m)</th>\n",
       "      <th>Solar Radiation (MJ/m2)</th>\n",
       "      <th>Rainfall(mm)</th>\n",
       "      <th>Snowfall (cm)</th>\n",
       "      <th>Seasons</th>\n",
       "      <th>Holiday</th>\n",
       "      <th>Rented Bike Count</th>\n",
       "    </tr>\n",
       "  </thead>\n",
       "  <tbody>\n",
       "    <tr>\n",
       "      <th>0</th>\n",
       "      <td>0</td>\n",
       "      <td>-5.2</td>\n",
       "      <td>37</td>\n",
       "      <td>2.2</td>\n",
       "      <td>2000</td>\n",
       "      <td>0.0</td>\n",
       "      <td>0.0</td>\n",
       "      <td>0.0</td>\n",
       "      <td>1</td>\n",
       "      <td>0</td>\n",
       "      <td>254</td>\n",
       "    </tr>\n",
       "    <tr>\n",
       "      <th>1</th>\n",
       "      <td>1</td>\n",
       "      <td>-5.5</td>\n",
       "      <td>38</td>\n",
       "      <td>0.8</td>\n",
       "      <td>2000</td>\n",
       "      <td>0.0</td>\n",
       "      <td>0.0</td>\n",
       "      <td>0.0</td>\n",
       "      <td>1</td>\n",
       "      <td>0</td>\n",
       "      <td>204</td>\n",
       "    </tr>\n",
       "    <tr>\n",
       "      <th>2</th>\n",
       "      <td>2</td>\n",
       "      <td>-6.0</td>\n",
       "      <td>39</td>\n",
       "      <td>1.0</td>\n",
       "      <td>2000</td>\n",
       "      <td>0.0</td>\n",
       "      <td>0.0</td>\n",
       "      <td>0.0</td>\n",
       "      <td>1</td>\n",
       "      <td>0</td>\n",
       "      <td>173</td>\n",
       "    </tr>\n",
       "    <tr>\n",
       "      <th>3</th>\n",
       "      <td>3</td>\n",
       "      <td>-6.2</td>\n",
       "      <td>40</td>\n",
       "      <td>0.9</td>\n",
       "      <td>2000</td>\n",
       "      <td>0.0</td>\n",
       "      <td>0.0</td>\n",
       "      <td>0.0</td>\n",
       "      <td>1</td>\n",
       "      <td>0</td>\n",
       "      <td>107</td>\n",
       "    </tr>\n",
       "    <tr>\n",
       "      <th>4</th>\n",
       "      <td>4</td>\n",
       "      <td>-6.0</td>\n",
       "      <td>36</td>\n",
       "      <td>2.3</td>\n",
       "      <td>2000</td>\n",
       "      <td>0.0</td>\n",
       "      <td>0.0</td>\n",
       "      <td>0.0</td>\n",
       "      <td>1</td>\n",
       "      <td>0</td>\n",
       "      <td>78</td>\n",
       "    </tr>\n",
       "  </tbody>\n",
       "</table>\n",
       "</div>"
      ],
      "text/plain": [
       "   Hour  Temperature(°C)  Humidity(%)  Wind speed (m/s)  Visibility (10m)  \\\n",
       "0     0             -5.2           37               2.2              2000   \n",
       "1     1             -5.5           38               0.8              2000   \n",
       "2     2             -6.0           39               1.0              2000   \n",
       "3     3             -6.2           40               0.9              2000   \n",
       "4     4             -6.0           36               2.3              2000   \n",
       "\n",
       "   Solar Radiation (MJ/m2)  Rainfall(mm)  Snowfall (cm)  Seasons  Holiday  \\\n",
       "0                      0.0           0.0            0.0        1        0   \n",
       "1                      0.0           0.0            0.0        1        0   \n",
       "2                      0.0           0.0            0.0        1        0   \n",
       "3                      0.0           0.0            0.0        1        0   \n",
       "4                      0.0           0.0            0.0        1        0   \n",
       "\n",
       "   Rented Bike Count  \n",
       "0                254  \n",
       "1                204  \n",
       "2                173  \n",
       "3                107  \n",
       "4                 78  "
      ]
     },
     "execution_count": 11,
     "metadata": {},
     "output_type": "execute_result"
    }
   ],
   "source": [
    "# get indexes of samples with a Functioning Day value of 0\n",
    "indexes = bikesDF[~(bikesDF['Functioning Day'] == 1)].index\n",
    "\n",
    "# drop those samples from the data set\n",
    "bikesDF.drop(indexes, inplace = True)\n",
    "\n",
    "# drop the Functioning Day feature\n",
    "bikesDF = bikesDF.drop(columns = [\"Functioning Day\"])\n",
    "\n",
    "bikesDF.head()"
   ]
  },
  {
   "cell_type": "code",
   "execution_count": 12,
   "metadata": {},
   "outputs": [
    {
     "data": {
      "text/plain": [
       "(8465, 11)"
      ]
     },
     "execution_count": 12,
     "metadata": {},
     "output_type": "execute_result"
    }
   ],
   "source": [
    "# see the new shape of the data\n",
    "bikesDF.shape"
   ]
  },
  {
   "cell_type": "code",
   "execution_count": 13,
   "metadata": {},
   "outputs": [
    {
     "data": {
      "text/plain": [
       "Hour                      -1.26e-03\n",
       "Temperature(°C)           -1.75e-01\n",
       "Humidity(%)                6.86e-02\n",
       "Wind speed (m/s)           8.94e-01\n",
       "Visibility (10m)          -6.95e-01\n",
       "Solar Radiation (MJ/m2)    1.51e+00\n",
       "Rainfall(mm)               1.46e+01\n",
       "Snowfall (cm)              8.29e+00\n",
       "Seasons                    3.41e-02\n",
       "Holiday                    4.22e+00\n",
       "Rented Bike Count          1.14e+00\n",
       "dtype: float64"
      ]
     },
     "execution_count": 13,
     "metadata": {},
     "output_type": "execute_result"
    }
   ],
   "source": [
    "# see if the data is skewed\n",
    "bikesDF.skew()"
   ]
  },
  {
   "cell_type": "code",
   "execution_count": 14,
   "metadata": {},
   "outputs": [
    {
     "data": {
      "image/png": "[encoded data removed]",
      "text/plain": [
       "<Figure size 720x720 with 12 Axes>"
      ]
     },
     "metadata": {
      "needs_background": "light"
     },
     "output_type": "display_data"
    },
    {
     "data": {
      "image/png": "[encoded data removed]",
      "text/plain": [
       "<Figure size 720x720 with 11 Axes>"
      ]
     },
     "metadata": {
      "needs_background": "light"
     },
     "output_type": "display_data"
    }
   ],
   "source": [
    "# histogram for value distribution\n",
    "histogram = bikesDF.hist(figsize = (10,10))\n",
    "\n",
    "# box plots to see if there are outliers\n",
    "box = bikesDF.plot(kind = 'box', subplots = True, sharex = False, \n",
    "                   sharey = False, figsize = (10,10))\n",
    "\n",
    "pyplot.show()"
   ]
  },
  {
   "cell_type": "markdown",
   "metadata": {},
   "source": [
    "# Feature and Algorithm Selection"
   ]
  },
  {
   "cell_type": "code",
   "execution_count": 15,
   "metadata": {},
   "outputs": [
    {
     "data": {
      "text/html": [
       "<div>\n",
       "<style scoped>\n",
       "    .dataframe tbody tr th:only-of-type {\n",
       "        vertical-align: middle;\n",
       "    }\n",
       "\n",
       "    .dataframe tbody tr th {\n",
       "        vertical-align: top;\n",
       "    }\n",
       "\n",
       "    .dataframe thead th {\n",
       "        text-align: right;\n",
       "    }\n",
       "</style>\n",
       "<table border=\"1\" class=\"dataframe\">\n",
       "  <thead>\n",
       "    <tr style=\"text-align: right;\">\n",
       "      <th></th>\n",
       "      <th>Hour</th>\n",
       "      <th>Temperature(°C)</th>\n",
       "      <th>Humidity(%)</th>\n",
       "      <th>Wind Speed(m/s)</th>\n",
       "      <th>Visibility(10m)</th>\n",
       "      <th>Solar Radiation(MJ/m2)</th>\n",
       "      <th>Rainfall(mm)</th>\n",
       "      <th>Snowfall(cm)</th>\n",
       "      <th>Season</th>\n",
       "      <th>Holiday</th>\n",
       "      <th>Rented Bike Count</th>\n",
       "    </tr>\n",
       "  </thead>\n",
       "  <tbody>\n",
       "    <tr>\n",
       "      <th>1</th>\n",
       "      <td>0</td>\n",
       "      <td>-5.2</td>\n",
       "      <td>37</td>\n",
       "      <td>2.2</td>\n",
       "      <td>2000</td>\n",
       "      <td>0.0</td>\n",
       "      <td>0.0</td>\n",
       "      <td>0.0</td>\n",
       "      <td>1</td>\n",
       "      <td>0</td>\n",
       "      <td>254</td>\n",
       "    </tr>\n",
       "    <tr>\n",
       "      <th>2</th>\n",
       "      <td>1</td>\n",
       "      <td>-5.5</td>\n",
       "      <td>38</td>\n",
       "      <td>0.8</td>\n",
       "      <td>2000</td>\n",
       "      <td>0.0</td>\n",
       "      <td>0.0</td>\n",
       "      <td>0.0</td>\n",
       "      <td>1</td>\n",
       "      <td>0</td>\n",
       "      <td>204</td>\n",
       "    </tr>\n",
       "    <tr>\n",
       "      <th>3</th>\n",
       "      <td>2</td>\n",
       "      <td>-6.0</td>\n",
       "      <td>39</td>\n",
       "      <td>1.0</td>\n",
       "      <td>2000</td>\n",
       "      <td>0.0</td>\n",
       "      <td>0.0</td>\n",
       "      <td>0.0</td>\n",
       "      <td>1</td>\n",
       "      <td>0</td>\n",
       "      <td>173</td>\n",
       "    </tr>\n",
       "    <tr>\n",
       "      <th>4</th>\n",
       "      <td>4</td>\n",
       "      <td>-6.0</td>\n",
       "      <td>36</td>\n",
       "      <td>2.3</td>\n",
       "      <td>2000</td>\n",
       "      <td>0.0</td>\n",
       "      <td>0.0</td>\n",
       "      <td>0.0</td>\n",
       "      <td>1</td>\n",
       "      <td>0</td>\n",
       "      <td>78</td>\n",
       "    </tr>\n",
       "    <tr>\n",
       "      <th>5</th>\n",
       "      <td>5</td>\n",
       "      <td>-6.4</td>\n",
       "      <td>37</td>\n",
       "      <td>1.5</td>\n",
       "      <td>2000</td>\n",
       "      <td>0.0</td>\n",
       "      <td>0.0</td>\n",
       "      <td>0.0</td>\n",
       "      <td>1</td>\n",
       "      <td>0</td>\n",
       "      <td>100</td>\n",
       "    </tr>\n",
       "  </tbody>\n",
       "</table>\n",
       "</div>"
      ],
      "text/plain": [
       "  Hour Temperature(°C) Humidity(%) Wind Speed(m/s) Visibility(10m)  \\\n",
       "1    0            -5.2          37             2.2            2000   \n",
       "2    1            -5.5          38             0.8            2000   \n",
       "3    2            -6.0          39             1.0            2000   \n",
       "4    4            -6.0          36             2.3            2000   \n",
       "5    5            -6.4          37             1.5            2000   \n",
       "\n",
       "  Solar Radiation(MJ/m2) Rainfall(mm) Snowfall(cm)  Season  Holiday  \\\n",
       "1                    0.0          0.0          0.0       1        0   \n",
       "2                    0.0          0.0          0.0       1        0   \n",
       "3                    0.0          0.0          0.0       1        0   \n",
       "4                    0.0          0.0          0.0       1        0   \n",
       "5                    0.0          0.0          0.0       1        0   \n",
       "\n",
       "  Rented Bike Count  \n",
       "1               254  \n",
       "2               204  \n",
       "3               173  \n",
       "4                78  \n",
       "5               100  "
      ]
     },
     "execution_count": 15,
     "metadata": {},
     "output_type": "execute_result"
    }
   ],
   "source": [
    "from numpy import set_printoptions\n",
    "from sklearn.feature_selection import SelectKBest\n",
    "from sklearn.feature_selection import chi2\n",
    "\n",
    "fileName = \"/Users/mtjen/Desktop/dsci/trainingData.csv\"\n",
    "bikesDF = read_csv(fileName, encoding = 'unicode_escape')  \n",
    "featureNames = ['Date', 'Rented Bike Count', 'Hour', 'Temperature(°C)', 'Humidity(%)', \n",
    "                'Wind Speed(m/s)', 'Visibility(10m)', 'Dew Point Temperature(°C)', \n",
    "                'Solar Radiation(MJ/m2)', 'Rainfall(mm)', 'Snowfall(cm)', 'Season', \n",
    "                'Holiday', 'Functioning Day']\n",
    "bikesDF = read_csv(fileName, encoding = 'unicode_escape', names = featureNames)\n",
    "\n",
    "# drop the first row with old feature names\n",
    "bikesDF = bikesDF.iloc[1:]\n",
    "\n",
    "# move target feature to end of dataframe\n",
    "col = bikesDF.pop('Rented Bike Count')\n",
    "bikesDF.insert(13, 'Rented Bike Count', col)\n",
    "\n",
    "# replace string values with numerical boolean values\n",
    "bikesDF = bikesDF.replace(['No Holiday', 'Holiday', 'Winter', 'Spring', \n",
    "                           'Summer', 'Autumn', 'No', 'Yes'], \n",
    "                          [0, 1, 1, 2, 3, 4, 0, 1])\n",
    "\n",
    "# remove Date and Dew Point Temperature features as it closely correlates with Temperature\n",
    "bikesDF = bikesDF.drop(columns = [\"Date\", \"Dew Point Temperature(°C)\"])\n",
    "\n",
    "# get indexes of samples with a Functioning Day value of 0\n",
    "indexes = bikesDF[~(bikesDF['Functioning Day'] == 1)].index\n",
    "\n",
    "# drop those samples from the data set\n",
    "bikesDF.drop(indexes , inplace = True)\n",
    "\n",
    "# drop the Functioning Day feature\n",
    "bikesDF = bikesDF.drop(columns = [\"Functioning Day\"])\n",
    "\n",
    "bikesDF.head()"
   ]
  },
  {
   "cell_type": "code",
   "execution_count": 16,
   "metadata": {},
   "outputs": [
    {
     "name": "stdout",
     "output_type": "stream",
     "text": [
      "[0.32958578 0.23850174 0.11351755 0.02492617 0.03386194 0.07565805\n",
      " 0.02586938 0.00160972 0.15030866 0.00616102]\n",
      "\n"
     ]
    },
    {
     "name": "stderr",
     "output_type": "stream",
     "text": [
      "/Users/mtjen/opt/anaconda3/lib/python3.8/site-packages/sklearn/utils/validation.py:67: FutureWarning: Pass n_features_to_select=5 as keyword args. From version 0.25 passing these as positional arguments will result in an error\n",
      "  warnings.warn(\"Pass {} as keyword args. From version 0.25 \"\n",
      "/Users/mtjen/opt/anaconda3/lib/python3.8/site-packages/sklearn/linear_model/_logistic.py:762: ConvergenceWarning: lbfgs failed to converge (status=1):\n",
      "STOP: TOTAL NO. of ITERATIONS REACHED LIMIT.\n",
      "\n",
      "Increase the number of iterations (max_iter) or scale the data as shown in:\n",
      "    https://scikit-learn.org/stable/modules/preprocessing.html\n",
      "Please also refer to the documentation for alternative solver options:\n",
      "    https://scikit-learn.org/stable/modules/linear_model.html#logistic-regression\n",
      "  n_iter_i = _check_optimize_result(\n",
      "/Users/mtjen/opt/anaconda3/lib/python3.8/site-packages/sklearn/linear_model/_logistic.py:762: ConvergenceWarning: lbfgs failed to converge (status=1):\n",
      "STOP: TOTAL NO. of ITERATIONS REACHED LIMIT.\n",
      "\n",
      "Increase the number of iterations (max_iter) or scale the data as shown in:\n",
      "    https://scikit-learn.org/stable/modules/preprocessing.html\n",
      "Please also refer to the documentation for alternative solver options:\n",
      "    https://scikit-learn.org/stable/modules/linear_model.html#logistic-regression\n",
      "  n_iter_i = _check_optimize_result(\n",
      "/Users/mtjen/opt/anaconda3/lib/python3.8/site-packages/sklearn/linear_model/_logistic.py:762: ConvergenceWarning: lbfgs failed to converge (status=1):\n",
      "STOP: TOTAL NO. of ITERATIONS REACHED LIMIT.\n",
      "\n",
      "Increase the number of iterations (max_iter) or scale the data as shown in:\n",
      "    https://scikit-learn.org/stable/modules/preprocessing.html\n",
      "Please also refer to the documentation for alternative solver options:\n",
      "    https://scikit-learn.org/stable/modules/linear_model.html#logistic-regression\n",
      "  n_iter_i = _check_optimize_result(\n",
      "/Users/mtjen/opt/anaconda3/lib/python3.8/site-packages/sklearn/linear_model/_logistic.py:762: ConvergenceWarning: lbfgs failed to converge (status=1):\n",
      "STOP: TOTAL NO. of ITERATIONS REACHED LIMIT.\n",
      "\n",
      "Increase the number of iterations (max_iter) or scale the data as shown in:\n",
      "    https://scikit-learn.org/stable/modules/preprocessing.html\n",
      "Please also refer to the documentation for alternative solver options:\n",
      "    https://scikit-learn.org/stable/modules/linear_model.html#logistic-regression\n",
      "  n_iter_i = _check_optimize_result(\n",
      "/Users/mtjen/opt/anaconda3/lib/python3.8/site-packages/sklearn/linear_model/_logistic.py:762: ConvergenceWarning: lbfgs failed to converge (status=1):\n",
      "STOP: TOTAL NO. of ITERATIONS REACHED LIMIT.\n",
      "\n",
      "Increase the number of iterations (max_iter) or scale the data as shown in:\n",
      "    https://scikit-learn.org/stable/modules/preprocessing.html\n",
      "Please also refer to the documentation for alternative solver options:\n",
      "    https://scikit-learn.org/stable/modules/linear_model.html#logistic-regression\n",
      "  n_iter_i = _check_optimize_result(\n"
     ]
    },
    {
     "name": "stdout",
     "output_type": "stream",
     "text": [
      "Num Features: 5\n",
      "Selected Features: [ True  True  True False  True False False False  True False]\n",
      "Feature Ranking: [1 1 1 3 1 4 2 5 1 6]\n"
     ]
    },
    {
     "name": "stderr",
     "output_type": "stream",
     "text": [
      "/Users/mtjen/opt/anaconda3/lib/python3.8/site-packages/sklearn/linear_model/_logistic.py:762: ConvergenceWarning: lbfgs failed to converge (status=1):\n",
      "STOP: TOTAL NO. of ITERATIONS REACHED LIMIT.\n",
      "\n",
      "Increase the number of iterations (max_iter) or scale the data as shown in:\n",
      "    https://scikit-learn.org/stable/modules/preprocessing.html\n",
      "Please also refer to the documentation for alternative solver options:\n",
      "    https://scikit-learn.org/stable/modules/linear_model.html#logistic-regression\n",
      "  n_iter_i = _check_optimize_result(\n"
     ]
    }
   ],
   "source": [
    "# Feature Importance \n",
    "# smaller values -> less important\n",
    "\n",
    "from sklearn.ensemble import ExtraTreesRegressor\n",
    "from sklearn.feature_selection import RFE\n",
    "from sklearn.linear_model import LogisticRegression\n",
    "\n",
    "# separate target feature\n",
    "array = bikesDF.values\n",
    "X = array[:,0:10]\n",
    "Y = array[:,10]\n",
    "\n",
    "# feature extraction using model importance\n",
    "model = ExtraTreesRegressor()\n",
    "model.fit(X, Y)\n",
    "print(model.feature_importances_)\n",
    "\n",
    "print()\n",
    "\n",
    "# feature extraction with RFE\n",
    "model = LogisticRegression()\n",
    "rfe = RFE(model, 5) \n",
    "fit = rfe.fit(X, Y)\n",
    "print(\"Num Features: {}\".format(fit.n_features_)) \n",
    "print(\"Selected Features: {}\".format(fit.support_))\n",
    "print(\"Feature Ranking: {}\".format(fit.ranking_))"
   ]
  },
  {
   "cell_type": "code",
   "execution_count": 17,
   "metadata": {},
   "outputs": [],
   "source": [
    "# create new dataframes with varying amount of features\n",
    "\n",
    "fourFeatureDF = bikesDF.drop(columns = ['Hour', 'Solar Radiation(MJ/m2)', 'Rainfall(mm)', \n",
    "                                        'Snowfall(cm)', 'Season', 'Holiday'])\n",
    "\n",
    "fiveFeatureDF = bikesDF.drop(columns = ['Solar Radiation(MJ/m2)', 'Rainfall(mm)', \n",
    "                                        'Snowfall(cm)', 'Season', 'Holiday'])\n",
    "\n",
    "sixFeatureDF =  bikesDF.drop(columns = ['Rainfall(mm)', 'Snowfall(cm)', 'Season', 'Holiday'])\n",
    "\n",
    "sevenFeatureDF =  bikesDF.drop(columns = ['Rainfall(mm)', 'Snowfall(cm)', 'Holiday'])"
   ]
  },
  {
   "cell_type": "code",
   "execution_count": 18,
   "metadata": {},
   "outputs": [
    {
     "name": "stdout",
     "output_type": "stream",
     "text": [
      "-242628.45019204667\n",
      "\n",
      "-207890.52066260186\n",
      "\n",
      "-204796.2321019885\n",
      "\n",
      "-196065.535995874\n",
      "\n",
      "-190805.58791396423\n"
     ]
    }
   ],
   "source": [
    "from sklearn.model_selection import train_test_split\n",
    "from sklearn.model_selection import cross_val_score\n",
    "from sklearn.model_selection import KFold\n",
    "from sklearn.linear_model import LinearRegression\n",
    "\n",
    "array = fourFeatureDF.values\n",
    "X = array[:,0:4]\n",
    "Y = array[:,4]\n",
    "scoring = 'neg_mean_squared_error' \n",
    "kfold = KFold(n_splits = 10, random_state = 7, shuffle = True)\n",
    "model = LinearRegression()\n",
    "results = cross_val_score(model, X, Y, cv = kfold, scoring = scoring)\n",
    "print(results.mean())\n",
    "\n",
    "print()\n",
    "\n",
    "array = fiveFeatureDF.values\n",
    "X = array[:,0:5]\n",
    "Y = array[:,5]\n",
    "results = cross_val_score(model, X, Y, cv = kfold, scoring = scoring)\n",
    "print(results.mean())\n",
    "\n",
    "print()\n",
    "\n",
    "array = sixFeatureDF.values\n",
    "X = array[:,0:6]\n",
    "Y = array[:,6] \n",
    "results = cross_val_score(model, X, Y, cv = kfold, scoring = scoring)\n",
    "print(results.mean())\n",
    "\n",
    "print()\n",
    "\n",
    "array = sevenFeatureDF.values\n",
    "X = array[:,0:7]\n",
    "Y = array[:,7]\n",
    "results = cross_val_score(model, X, Y, cv = kfold, scoring = scoring)\n",
    "print(results.mean())\n",
    "\n",
    "print()\n",
    "\n",
    "array = bikesDF.values\n",
    "X = array[:,0:10]\n",
    "Y = array[:,10] \n",
    "results = cross_val_score(model, X, Y, cv = kfold, scoring = scoring)\n",
    "print(results.mean())"
   ]
  },
  {
   "cell_type": "code",
   "execution_count": 19,
   "metadata": {},
   "outputs": [
    {
     "name": "stderr",
     "output_type": "stream",
     "text": [
      "/Users/mtjen/opt/anaconda3/lib/python3.8/site-packages/sklearn/model_selection/_split.py:293: FutureWarning: Setting a random_state has no effect since shuffle is False. This will raise an error in 0.24. You should leave random_state to its default (None), or set shuffle=True.\n",
      "  warnings.warn(\n"
     ]
    },
    {
     "name": "stdout",
     "output_type": "stream",
     "text": [
      "-211325.22523529647\n",
      "\n",
      "-211319.42184082707\n",
      "\n",
      "-211133.8100195111\n",
      "\n",
      "-212304.4078480253\n",
      "\n",
      "-136526.55506292658\n",
      "\n",
      "-468956.3739273579\n"
     ]
    }
   ],
   "source": [
    "from sklearn.model_selection import cross_val_score\n",
    "from sklearn.linear_model import LinearRegression\n",
    "from sklearn.linear_model import Ridge\n",
    "from sklearn.linear_model import Lasso\n",
    "from sklearn.linear_model import ElasticNet\n",
    "from sklearn.tree import DecisionTreeRegressor\n",
    "from sklearn.svm import SVR\n",
    "\n",
    "array = bikesDF.values\n",
    "X = array[:,0:10]\n",
    "Y = array[:,10]\n",
    "kfold = KFold(n_splits = 10, random_state = 7)\n",
    "scoring = 'neg_mean_squared_error'\n",
    "\n",
    "model = LinearRegression()\n",
    "results = cross_val_score(model, X, Y, cv = kfold, scoring = scoring)\n",
    "print(results.mean())\n",
    "\n",
    "print()\n",
    "\n",
    "model = Ridge()\n",
    "results = cross_val_score(model, X, Y, cv = kfold, scoring = scoring)\n",
    "print(results.mean())\n",
    "\n",
    "print()\n",
    "\n",
    "model = Lasso()\n",
    "results = cross_val_score(model, X, Y, cv = kfold, scoring = scoring)\n",
    "print(results.mean())\n",
    "\n",
    "print()\n",
    "\n",
    "model = ElasticNet()\n",
    "results = cross_val_score(model, X, Y, cv = kfold, scoring = scoring)\n",
    "print(results.mean())\n",
    "\n",
    "print()\n",
    "\n",
    "model = DecisionTreeRegressor()\n",
    "results = cross_val_score(model, X, Y, cv = kfold, scoring = scoring)\n",
    "print(results.mean())\n",
    "\n",
    "print()\n",
    "\n",
    "model = SVR()\n",
    "results = cross_val_score(model, X, Y, cv = kfold, scoring = scoring)\n",
    "print(results.mean())"
   ]
  },
  {
   "cell_type": "code",
   "execution_count": 20,
   "metadata": {},
   "outputs": [
    {
     "name": "stdout",
     "output_type": "stream",
     "text": [
      "Decision Tree: 0.7420871102497638\n",
      "Linear: 0.5353705511803393\n",
      "Ridge: 0.535371385634241\n",
      "Lasso: 0.535344638565112\n"
     ]
    }
   ],
   "source": [
    "# Create a pipeline that standardizes the data then creates a model\n",
    "from sklearn.preprocessing import StandardScaler\n",
    "from sklearn.pipeline import Pipeline\n",
    "from sklearn.tree import DecisionTreeRegressor\n",
    "\n",
    "array = bikesDF.values\n",
    "X = array[:,0:10]\n",
    "Y = array[:,10]\n",
    "scoring = 'r2'\n",
    "kfold = KFold(n_splits = 10, random_state = 7, shuffle = True)\n",
    "\n",
    "# pipeline\n",
    "DTRestimator = []\n",
    "DTRestimator.append(('Standard', StandardScaler()))\n",
    "DTRestimator.append(('Regressor', DecisionTreeRegressor()))\n",
    "model = Pipeline(DTRestimator)\n",
    "results = cross_val_score(model, X, Y, cv = kfold, scoring = scoring)\n",
    "print('Decision Tree:',results.mean())\n",
    "\n",
    "LRestimator = []\n",
    "LRestimator.append(('Standard', StandardScaler()))\n",
    "LRestimator.append(('Linear Regression', LinearRegression()))\n",
    "model = Pipeline(LRestimator)\n",
    "results = cross_val_score(model, X, Y, cv = kfold, scoring = scoring)\n",
    "print('Linear:',results.mean())\n",
    "\n",
    "Restimator = []\n",
    "Restimator.append(('Standard', StandardScaler()))\n",
    "Restimator.append(('Ridge', Ridge()))\n",
    "model = Pipeline(Restimator)\n",
    "results = cross_val_score(model, X, Y, cv = kfold, scoring = scoring)\n",
    "print('Ridge:',results.mean())\n",
    "\n",
    "Lestimator = []\n",
    "Lestimator.append(('Standard', StandardScaler()))\n",
    "Lestimator.append(('Lasso', Lasso()))\n",
    "model = Pipeline(Lestimator)\n",
    "results = cross_val_score(model, X, Y, cv = kfold, scoring = scoring)\n",
    "print('Lasso:',results.mean())"
   ]
  },
  {
   "cell_type": "code",
   "execution_count": 21,
   "metadata": {},
   "outputs": [
    {
     "name": "stdout",
     "output_type": "stream",
     "text": [
      "[0.68724064 0.7192479  0.70388798 0.7497677  0.79638183 0.73145593\n",
      " 0.76227373 0.77564707 0.76682888 0.73832493] 0.7431056591474374\n"
     ]
    }
   ],
   "source": [
    "# Create a pipeline that standardizes the data then creates a model\n",
    "\n",
    "from sklearn.pipeline import Pipeline\n",
    "from sklearn.tree import DecisionTreeRegressor\n",
    "\n",
    "array = bikesDF.values\n",
    "X = array[:,0:10]\n",
    "Y = array[:,10]\n",
    "\n",
    "# pipeline\n",
    "DTRestimator = []\n",
    "DTRestimator.append(('Regressor', DecisionTreeRegressor()))\n",
    "model = Pipeline(DTRestimator)\n",
    "scoring = 'r2'\n",
    "\n",
    "kfold = KFold(n_splits = 10, random_state = 7, shuffle = True)\n",
    "results = cross_val_score(model, X, Y, cv = kfold, scoring = scoring)\n",
    "print(results, results.mean())"
   ]
  },
  {
   "cell_type": "markdown",
   "metadata": {},
   "source": [
    "# Parameter Tuning"
   ]
  },
  {
   "cell_type": "code",
   "execution_count": 22,
   "metadata": {},
   "outputs": [
    {
     "name": "stdout",
     "output_type": "stream",
     "text": [
      "0.8633453392008363\n"
     ]
    }
   ],
   "source": [
    "# bagged decision tree\n",
    "\n",
    "from sklearn.ensemble import BaggingRegressor\n",
    "from sklearn.tree import DecisionTreeRegressor\n",
    "\n",
    "X = array[:,0:10]\n",
    "Y = array[:,10]\n",
    "seed = 7\n",
    "kfold = KFold(n_splits = 10, random_state = seed, shuffle = True)\n",
    "cart = DecisionTreeRegressor()\n",
    "num_trees = 100\n",
    "model = BaggingRegressor(base_estimator = cart, n_estimators = num_trees, random_state = seed)\n",
    "results = cross_val_score(model, X, Y, cv = kfold)\n",
    "print(results.mean())"
   ]
  },
  {
   "cell_type": "code",
   "execution_count": 23,
   "metadata": {},
   "outputs": [
    {
     "name": "stdout",
     "output_type": "stream",
     "text": [
      "0.862764196663816\n"
     ]
    }
   ],
   "source": [
    "# random forest\n",
    "\n",
    "from sklearn.ensemble import RandomForestRegressor\n",
    "\n",
    "X = array[:,0:10]\n",
    "Y = array[:,10]\n",
    "num_trees = 100\n",
    "kfold = KFold(n_splits = 10, random_state = 7, shuffle = True)\n",
    "model = RandomForestRegressor(n_estimators = num_trees)\n",
    "results = cross_val_score(model, X, Y, cv = kfold)\n",
    "print(results.mean())"
   ]
  },
  {
   "cell_type": "code",
   "execution_count": 24,
   "metadata": {},
   "outputs": [
    {
     "name": "stdout",
     "output_type": "stream",
     "text": [
      "0.8678602203750092\n"
     ]
    }
   ],
   "source": [
    "# extra trees\n",
    "\n",
    "from sklearn.ensemble import ExtraTreesRegressor\n",
    "\n",
    "X = array[:,0:10]\n",
    "Y = array[:,10]\n",
    "num_trees = 100\n",
    "kfold = KFold(n_splits = 10, random_state = 7, shuffle = True)\n",
    "model = ExtraTreesRegressor(n_estimators = num_trees)\n",
    "results = cross_val_score(model, X, Y, cv = kfold)\n",
    "print(results.mean())"
   ]
  },
  {
   "cell_type": "code",
   "execution_count": 25,
   "metadata": {},
   "outputs": [
    {
     "name": "stdout",
     "output_type": "stream",
     "text": [
      "0.5530056329861461\n"
     ]
    }
   ],
   "source": [
    "# ada boost\n",
    "\n",
    "from sklearn.ensemble import AdaBoostRegressor\n",
    "\n",
    "X = array[:,0:10]\n",
    "Y = array[:,10]\n",
    "num_trees = 100\n",
    "seed=7\n",
    "kfold = KFold(n_splits = 10, random_state = seed, shuffle = True)\n",
    "model = AdaBoostRegressor(n_estimators = num_trees, random_state = seed)\n",
    "results = cross_val_score(model, X, Y, cv = kfold)\n",
    "print(results.mean())"
   ]
  },
  {
   "cell_type": "code",
   "execution_count": 26,
   "metadata": {},
   "outputs": [
    {
     "name": "stdout",
     "output_type": "stream",
     "text": [
      "0.8470746801443632\n"
     ]
    }
   ],
   "source": [
    "# gradient boost\n",
    "\n",
    "from sklearn.ensemble import GradientBoostingRegressor\n",
    "\n",
    "X = array[:,0:10]\n",
    "Y = array[:,10]\n",
    "seed = 7\n",
    "num_trees = 100\n",
    "kfold = KFold(n_splits = 10, random_state = seed, shuffle = True)\n",
    "model = GradientBoostingRegressor(n_estimators = num_trees, random_state = seed)\n",
    "results = cross_val_score(model, X, Y, cv = kfold)\n",
    "print(results.mean())"
   ]
  },
  {
   "cell_type": "code",
   "execution_count": 27,
   "metadata": {},
   "outputs": [
    {
     "name": "stdout",
     "output_type": "stream",
     "text": [
      "DTR: 74.51182510024809\n",
      "ETR: 86.89682726959178\n",
      "Average: 80.70432618491994\n"
     ]
    }
   ],
   "source": [
    "# initial stack of base and ensemble methods\n",
    "\n",
    "from sklearn.model_selection import KFold\n",
    "from sklearn.tree import DecisionTreeRegressor\n",
    "from sklearn.ensemble import ExtraTreesRegressor\n",
    "\n",
    "array = bikesDF.values\n",
    "X = array[:,0:10]\n",
    "Y = array[:,10]\n",
    "\n",
    "kfold = KFold(n_splits = 10, random_state = 7, shuffle = True)\n",
    "\n",
    "modelOne = DecisionTreeRegressor()\n",
    "modelTwo = ExtraTreesRegressor()\n",
    "\n",
    "# results for each model\n",
    "resultsOne = cross_val_score(modelOne, X, Y, cv = kfold, scoring = scoring)\n",
    "resultsTwo = cross_val_score(modelTwo, X, Y, cv = kfold, scoring = scoring)\n",
    "\n",
    "print('DTR:', resultsOne.mean() * 100)\n",
    "print('ETR:', resultsTwo.mean() * 100)\n",
    "\n",
    "# get the mean of both model scores as a combined performance\n",
    "meanScore = (resultsOne.mean() + resultsTwo.mean()) / 2\n",
    "print('Average:', meanScore * 100)"
   ]
  },
  {
   "cell_type": "code",
   "execution_count": 28,
   "metadata": {},
   "outputs": [],
   "source": [
    "# ensemble method tuning"
   ]
  },
  {
   "cell_type": "code",
   "execution_count": 29,
   "metadata": {},
   "outputs": [
    {
     "name": "stdout",
     "output_type": "stream",
     "text": [
      "0.8694718187477186\n"
     ]
    }
   ],
   "source": [
    "# n estimators parameter\n",
    "\n",
    "X = array[:,0:10]\n",
    "Y = array[:,10]\n",
    "num_trees = 200\n",
    "\n",
    "kfold = KFold(n_splits = 10, random_state = 7, shuffle = True)\n",
    "\n",
    "model = ExtraTreesRegressor(n_estimators = num_trees)\n",
    "results = cross_val_score(model, X, Y, cv = kfold)\n",
    "print(results.mean())"
   ]
  },
  {
   "cell_type": "code",
   "execution_count": 30,
   "metadata": {},
   "outputs": [
    {
     "name": "stdout",
     "output_type": "stream",
     "text": [
      "0.8689949994554935\n"
     ]
    }
   ],
   "source": [
    "num_trees = 300\n",
    "\n",
    "model = ExtraTreesRegressor(n_estimators = num_trees)\n",
    "results = cross_val_score(model, X, Y, cv = kfold)\n",
    "print(results.mean())"
   ]
  },
  {
   "cell_type": "code",
   "execution_count": 31,
   "metadata": {},
   "outputs": [
    {
     "name": "stdout",
     "output_type": "stream",
     "text": [
      "0.8695500948796981\n"
     ]
    }
   ],
   "source": [
    "num_trees = 500\n",
    "\n",
    "model = ExtraTreesRegressor(n_estimators = num_trees)\n",
    "results = cross_val_score(model, X, Y, cv = kfold)\n",
    "print(results.mean())"
   ]
  },
  {
   "cell_type": "code",
   "execution_count": 32,
   "metadata": {},
   "outputs": [
    {
     "name": "stdout",
     "output_type": "stream",
     "text": [
      "0.8694299028938245\n"
     ]
    }
   ],
   "source": [
    "num_trees = 400\n",
    "\n",
    "model = ExtraTreesRegressor(n_estimators = num_trees)\n",
    "results = cross_val_score(model, X, Y, cv = kfold)\n",
    "print(results.mean())"
   ]
  },
  {
   "cell_type": "code",
   "execution_count": 33,
   "metadata": {},
   "outputs": [
    {
     "name": "stdout",
     "output_type": "stream",
     "text": [
      "0.8695910014887474\n"
     ]
    }
   ],
   "source": [
    "num_trees = 350\n",
    "\n",
    "model = ExtraTreesRegressor(n_estimators = num_trees)\n",
    "results = cross_val_score(model, X, Y, cv = kfold)\n",
    "print(results.mean())"
   ]
  },
  {
   "cell_type": "code",
   "execution_count": 34,
   "metadata": {},
   "outputs": [
    {
     "name": "stdout",
     "output_type": "stream",
     "text": [
      "0.8695697894950902\n"
     ]
    }
   ],
   "source": [
    "num_trees = 450\n",
    "\n",
    "model = ExtraTreesRegressor(n_estimators = num_trees)\n",
    "results = cross_val_score(model, X, Y, cv = kfold)\n",
    "print(results.mean())"
   ]
  },
  {
   "cell_type": "code",
   "execution_count": 35,
   "metadata": {},
   "outputs": [
    {
     "name": "stdout",
     "output_type": "stream",
     "text": [
      "0.8696912108542666\n"
     ]
    }
   ],
   "source": [
    "num_trees = 425\n",
    "\n",
    "model = ExtraTreesRegressor(n_estimators = num_trees)\n",
    "results = cross_val_score(model, X, Y, cv = kfold)\n",
    "print(results.mean())"
   ]
  },
  {
   "cell_type": "code",
   "execution_count": 36,
   "metadata": {},
   "outputs": [
    {
     "name": "stdout",
     "output_type": "stream",
     "text": [
      "0.8688579894429816\n"
     ]
    }
   ],
   "source": [
    "# max features parameter\n",
    "\n",
    "features = 4\n",
    "\n",
    "model = ExtraTreesRegressor(n_estimators = 400, max_features = features)\n",
    "results = cross_val_score(model, X, Y, cv = kfold)\n",
    "print(results.mean())"
   ]
  },
  {
   "cell_type": "code",
   "execution_count": 37,
   "metadata": {},
   "outputs": [
    {
     "name": "stdout",
     "output_type": "stream",
     "text": [
      "0.8707857485532386\n"
     ]
    }
   ],
   "source": [
    "# max features parameter\n",
    "\n",
    "features = 7\n",
    "\n",
    "model = ExtraTreesRegressor(n_estimators = 400, max_features = features)\n",
    "results = cross_val_score(model, X, Y, cv = kfold)\n",
    "print(results.mean())"
   ]
  },
  {
   "cell_type": "code",
   "execution_count": 38,
   "metadata": {},
   "outputs": [
    {
     "name": "stdout",
     "output_type": "stream",
     "text": [
      "0.8701952630914731\n"
     ]
    }
   ],
   "source": [
    "# max features parameter\n",
    "\n",
    "features = 8\n",
    "\n",
    "model = ExtraTreesRegressor(n_estimators = 400, max_features = features)\n",
    "results = cross_val_score(model, X, Y, cv = kfold)\n",
    "print(results.mean())"
   ]
  },
  {
   "cell_type": "code",
   "execution_count": 39,
   "metadata": {},
   "outputs": [
    {
     "name": "stdout",
     "output_type": "stream",
     "text": [
      "0.870871168595474\n"
     ]
    }
   ],
   "source": [
    "# max features parameter\n",
    "\n",
    "features = 6\n",
    "\n",
    "model = ExtraTreesRegressor(n_estimators = 400, max_features = features)\n",
    "results = cross_val_score(model, X, Y, cv = kfold)\n",
    "print(results.mean())"
   ]
  },
  {
   "cell_type": "code",
   "execution_count": 40,
   "metadata": {},
   "outputs": [
    {
     "name": "stdout",
     "output_type": "stream",
     "text": [
      "0.8705383433927549\n"
     ]
    }
   ],
   "source": [
    "# max features parameter\n",
    "\n",
    "features = 5\n",
    "\n",
    "model = ExtraTreesRegressor(n_estimators = 400, max_features = features)\n",
    "results = cross_val_score(model, X, Y, cv = kfold)\n",
    "print(results.mean())"
   ]
  },
  {
   "cell_type": "code",
   "execution_count": 41,
   "metadata": {},
   "outputs": [
    {
     "name": "stdout",
     "output_type": "stream",
     "text": [
      "0.8423839508693896\n"
     ]
    }
   ],
   "source": [
    "# max depth parameter\n",
    "\n",
    "\n",
    "depth = 10\n",
    "\n",
    "model = ExtraTreesRegressor(n_estimators = 400, max_features = 7, max_depth = depth)\n",
    "results = cross_val_score(model, X, Y, cv = kfold)\n",
    "print(results.mean())"
   ]
  },
  {
   "cell_type": "code",
   "execution_count": 42,
   "metadata": {},
   "outputs": [
    {
     "name": "stdout",
     "output_type": "stream",
     "text": [
      "0.6909918631677122\n"
     ]
    }
   ],
   "source": [
    "depth = 5\n",
    "\n",
    "model = ExtraTreesRegressor(n_estimators = 400, max_features = 7, max_depth = depth)\n",
    "results = cross_val_score(model, X, Y, cv = kfold)\n",
    "print(results.mean())"
   ]
  },
  {
   "cell_type": "code",
   "execution_count": 43,
   "metadata": {},
   "outputs": [
    {
     "name": "stdout",
     "output_type": "stream",
     "text": [
      "0.8714367596815074\n"
     ]
    }
   ],
   "source": [
    "depth = 20\n",
    "\n",
    "model = ExtraTreesRegressor(n_estimators = 400, max_features = 7, max_depth = depth)\n",
    "results = cross_val_score(model, X, Y, cv = kfold)\n",
    "print(results.mean())"
   ]
  },
  {
   "cell_type": "code",
   "execution_count": 44,
   "metadata": {},
   "outputs": [
    {
     "name": "stdout",
     "output_type": "stream",
     "text": [
      "0.870762287643525\n"
     ]
    }
   ],
   "source": [
    "depth = 30\n",
    "\n",
    "model = ExtraTreesRegressor(n_estimators = 400, max_features = 7, max_depth = depth)\n",
    "results = cross_val_score(model, X, Y, cv = kfold)\n",
    "print(results.mean())"
   ]
  },
  {
   "cell_type": "code",
   "execution_count": 45,
   "metadata": {},
   "outputs": [
    {
     "name": "stdout",
     "output_type": "stream",
     "text": [
      "0.8713331670225388\n"
     ]
    }
   ],
   "source": [
    "depth = 25\n",
    "\n",
    "model = ExtraTreesRegressor(n_estimators = 400, max_features = 7, max_depth = depth)\n",
    "results = cross_val_score(model, X, Y, cv = kfold)\n",
    "print(results.mean())"
   ]
  },
  {
   "cell_type": "code",
   "execution_count": 46,
   "metadata": {},
   "outputs": [
    {
     "name": "stdout",
     "output_type": "stream",
     "text": [
      "0.8716977879230681\n"
     ]
    }
   ],
   "source": [
    "depth = 15\n",
    "\n",
    "model = ExtraTreesRegressor(n_estimators = 400, max_features = 7, max_depth = depth)\n",
    "results = cross_val_score(model, X, Y, cv = kfold)\n",
    "print(results.mean())"
   ]
  },
  {
   "cell_type": "code",
   "execution_count": 47,
   "metadata": {},
   "outputs": [
    {
     "name": "stdout",
     "output_type": "stream",
     "text": [
      "0.8722883413339645\n"
     ]
    }
   ],
   "source": [
    "depth = 17\n",
    "\n",
    "model = ExtraTreesRegressor(n_estimators = 400, max_features = 7, max_depth = depth)\n",
    "results = cross_val_score(model, X, Y, cv = kfold)\n",
    "print(results.mean())"
   ]
  },
  {
   "cell_type": "code",
   "execution_count": 48,
   "metadata": {},
   "outputs": [
    {
     "name": "stdout",
     "output_type": "stream",
     "text": [
      "0.8723111493241623\n"
     ]
    }
   ],
   "source": [
    "depth = 16\n",
    "\n",
    "model = ExtraTreesRegressor(n_estimators = 400, max_features = 7, max_depth = depth)\n",
    "results = cross_val_score(model, X, Y, cv = kfold)\n",
    "print(results.mean())"
   ]
  },
  {
   "cell_type": "code",
   "execution_count": 49,
   "metadata": {},
   "outputs": [
    {
     "name": "stdout",
     "output_type": "stream",
     "text": [
      "0.8724746097742747\n"
     ]
    }
   ],
   "source": [
    "depth = 18\n",
    "\n",
    "model = ExtraTreesRegressor(n_estimators = 400, max_features = 7, max_depth = depth)\n",
    "results = cross_val_score(model, X, Y, cv = kfold)\n",
    "print(results.mean())"
   ]
  },
  {
   "cell_type": "code",
   "execution_count": 50,
   "metadata": {},
   "outputs": [],
   "source": [
    "# KFold tuning"
   ]
  },
  {
   "cell_type": "code",
   "execution_count": 51,
   "metadata": {},
   "outputs": [
    {
     "name": "stdout",
     "output_type": "stream",
     "text": [
      "0.8734388483883303\n"
     ]
    }
   ],
   "source": [
    "# n_splits parameter\n",
    "\n",
    "from sklearn.ensemble import ExtraTreesRegressor\n",
    "\n",
    "split = 8\n",
    "\n",
    "kfold = KFold(n_splits = split, random_state = 7, shuffle = True)\n",
    "\n",
    "model = ExtraTreesRegressor(n_estimators = 400, max_features = 7, max_depth = 17)\n",
    "results = cross_val_score(model, X, Y, cv = kfold)\n",
    "print(results.mean())"
   ]
  },
  {
   "cell_type": "code",
   "execution_count": 52,
   "metadata": {},
   "outputs": [
    {
     "name": "stdout",
     "output_type": "stream",
     "text": [
      "0.8726347965976388\n"
     ]
    }
   ],
   "source": [
    "split = 12\n",
    "\n",
    "kfold = KFold(n_splits = split, random_state = 7, shuffle = True)\n",
    "\n",
    "model = ExtraTreesRegressor(n_estimators = 400, max_features = 7, max_depth = 17)\n",
    "results = cross_val_score(model, X, Y, cv = kfold)\n",
    "print(results.mean())"
   ]
  },
  {
   "cell_type": "code",
   "execution_count": 53,
   "metadata": {},
   "outputs": [
    {
     "name": "stdout",
     "output_type": "stream",
     "text": [
      "0.8723576959573892\n"
     ]
    }
   ],
   "source": [
    "split = 9\n",
    "\n",
    "kfold = KFold(n_splits = split, random_state = 7, shuffle = True)\n",
    "\n",
    "model = ExtraTreesRegressor(n_estimators = 400, max_features = 7, max_depth = 17)\n",
    "results = cross_val_score(model, X, Y, cv = kfold)\n",
    "print(results.mean())"
   ]
  },
  {
   "cell_type": "code",
   "execution_count": 54,
   "metadata": {},
   "outputs": [
    {
     "name": "stdout",
     "output_type": "stream",
     "text": [
      "0.8743358045960561\n"
     ]
    }
   ],
   "source": [
    "# random state parameter\n",
    "\n",
    "state = 5\n",
    "\n",
    "kfold = KFold(n_splits = 8, random_state = state, shuffle = True)\n",
    "\n",
    "model = ExtraTreesRegressor(n_estimators = 400, max_features = 7, min_samples_leaf = 1,\n",
    "                            min_samples_split = 2, max_depth = 17)\n",
    "results = cross_val_score(model, X, Y, cv = kfold)\n",
    "print(results.mean())"
   ]
  },
  {
   "cell_type": "code",
   "execution_count": 55,
   "metadata": {},
   "outputs": [
    {
     "name": "stdout",
     "output_type": "stream",
     "text": [
      "0.8730211686699201\n"
     ]
    }
   ],
   "source": [
    "state = 9\n",
    "\n",
    "kfold = KFold(n_splits = 8, random_state = state, shuffle = True)\n",
    "\n",
    "model = ExtraTreesRegressor(n_estimators = 400, max_features = 7, min_samples_leaf = 1,\n",
    "                            min_samples_split = 2, max_depth = 17)\n",
    "results = cross_val_score(model, X, Y, cv = kfold)\n",
    "print(results.mean())"
   ]
  },
  {
   "cell_type": "code",
   "execution_count": 56,
   "metadata": {},
   "outputs": [
    {
     "name": "stdout",
     "output_type": "stream",
     "text": [
      "0.8716793310171316\n"
     ]
    }
   ],
   "source": [
    "state = 6\n",
    "\n",
    "kfold = KFold(n_splits = 8, random_state = state, shuffle = True)\n",
    "\n",
    "model = ExtraTreesRegressor(n_estimators = 400, max_features = 7, min_samples_leaf = 1,\n",
    "                            min_samples_split = 2, max_depth = 17)\n",
    "results = cross_val_score(model, X, Y, cv = kfold)\n",
    "print(results.mean())"
   ]
  },
  {
   "cell_type": "code",
   "execution_count": 57,
   "metadata": {},
   "outputs": [
    {
     "name": "stdout",
     "output_type": "stream",
     "text": [
      "0.8710282312482214\n"
     ]
    }
   ],
   "source": [
    "state = 4\n",
    "\n",
    "kfold = KFold(n_splits = 8, random_state = state, shuffle = True)\n",
    "\n",
    "model = ExtraTreesRegressor(n_estimators = 400, max_features = 7, min_samples_leaf = 1,\n",
    "                            min_samples_split = 2, max_depth = 17)\n",
    "results = cross_val_score(model, X, Y, cv = kfold)\n",
    "print(results.mean())"
   ]
  },
  {
   "cell_type": "code",
   "execution_count": 58,
   "metadata": {},
   "outputs": [],
   "source": [
    "# decision tree regressor tuning"
   ]
  },
  {
   "cell_type": "code",
   "execution_count": 59,
   "metadata": {},
   "outputs": [
    {
     "name": "stdout",
     "output_type": "stream",
     "text": [
      "0.7344516558400034\n"
     ]
    }
   ],
   "source": [
    "# max depth parameter\n",
    "\n",
    "kfold = KFold(n_splits = 8, random_state = 5, shuffle = True)\n",
    "\n",
    "depth = 5\n",
    "\n",
    "model = DecisionTreeRegressor(max_depth = depth)\n",
    "results = cross_val_score(model, X, Y, cv = kfold)\n",
    "print(results.mean())"
   ]
  },
  {
   "cell_type": "code",
   "execution_count": 60,
   "metadata": {},
   "outputs": [
    {
     "name": "stdout",
     "output_type": "stream",
     "text": [
      "0.8041744401250083\n"
     ]
    }
   ],
   "source": [
    "depth = 10\n",
    "\n",
    "model = DecisionTreeRegressor(max_depth = depth)\n",
    "results = cross_val_score(model, X, Y, cv = kfold)\n",
    "print(results.mean())"
   ]
  },
  {
   "cell_type": "code",
   "execution_count": 61,
   "metadata": {},
   "outputs": [
    {
     "name": "stdout",
     "output_type": "stream",
     "text": [
      "0.7615473821399309\n"
     ]
    }
   ],
   "source": [
    "depth = 15\n",
    "\n",
    "model = DecisionTreeRegressor(max_depth = depth)\n",
    "results = cross_val_score(model, X, Y, cv = kfold)\n",
    "print(results.mean())"
   ]
  },
  {
   "cell_type": "code",
   "execution_count": 62,
   "metadata": {},
   "outputs": [
    {
     "name": "stdout",
     "output_type": "stream",
     "text": [
      "0.7986618190784547\n"
     ]
    }
   ],
   "source": [
    "depth = 8\n",
    "\n",
    "model = DecisionTreeRegressor(max_depth = depth)\n",
    "results = cross_val_score(model, X, Y, cv = kfold)\n",
    "print(results.mean())"
   ]
  },
  {
   "cell_type": "code",
   "execution_count": 63,
   "metadata": {},
   "outputs": [
    {
     "name": "stdout",
     "output_type": "stream",
     "text": [
      "0.8077419168012667\n"
     ]
    }
   ],
   "source": [
    "depth = 9\n",
    "\n",
    "model = DecisionTreeRegressor(max_depth = depth)\n",
    "results = cross_val_score(model, X, Y, cv = kfold)\n",
    "print(results.mean())"
   ]
  },
  {
   "cell_type": "code",
   "execution_count": 65,
   "metadata": {},
   "outputs": [
    {
     "name": "stdout",
     "output_type": "stream",
     "text": [
      "0.8066445813096238\n"
     ]
    }
   ],
   "source": [
    "# min samples split parameter\n",
    "\n",
    "split = 5\n",
    "\n",
    "model = DecisionTreeRegressor(max_depth = 9, min_samples_split = split)\n",
    "results = cross_val_score(model, X, Y, cv = kfold)\n",
    "print(results.mean())"
   ]
  },
  {
   "cell_type": "code",
   "execution_count": 66,
   "metadata": {},
   "outputs": [
    {
     "name": "stdout",
     "output_type": "stream",
     "text": [
      "0.8100282030074568\n"
     ]
    }
   ],
   "source": [
    "split = 10\n",
    "\n",
    "model = DecisionTreeRegressor(max_depth = 9, min_samples_split = split)\n",
    "results = cross_val_score(model, X, Y, cv = kfold)\n",
    "print(results.mean())"
   ]
  },
  {
   "cell_type": "code",
   "execution_count": 67,
   "metadata": {},
   "outputs": [
    {
     "name": "stdout",
     "output_type": "stream",
     "text": [
      "0.8120799380346565\n"
     ]
    }
   ],
   "source": [
    "split = 15\n",
    "\n",
    "model = DecisionTreeRegressor(max_depth = 9, min_samples_split = split)\n",
    "results = cross_val_score(model, X, Y, cv = kfold)\n",
    "print(results.mean())"
   ]
  },
  {
   "cell_type": "code",
   "execution_count": 68,
   "metadata": {},
   "outputs": [
    {
     "name": "stdout",
     "output_type": "stream",
     "text": [
      "0.8129159275780268\n"
     ]
    }
   ],
   "source": [
    "split = 20\n",
    "\n",
    "model = DecisionTreeRegressor(max_depth = 9, min_samples_split = split)\n",
    "results = cross_val_score(model, X, Y, cv = kfold)\n",
    "print(results.mean())"
   ]
  },
  {
   "cell_type": "code",
   "execution_count": 69,
   "metadata": {},
   "outputs": [
    {
     "name": "stdout",
     "output_type": "stream",
     "text": [
      "0.8141299371934386\n"
     ]
    }
   ],
   "source": [
    "split = 25\n",
    "\n",
    "model = DecisionTreeRegressor(max_depth = 9, min_samples_split = split)\n",
    "results = cross_val_score(model, X, Y, cv = kfold)\n",
    "print(results.mean())"
   ]
  },
  {
   "cell_type": "code",
   "execution_count": 70,
   "metadata": {},
   "outputs": [
    {
     "name": "stdout",
     "output_type": "stream",
     "text": [
      "0.8139623832957894\n"
     ]
    }
   ],
   "source": [
    "split = 30\n",
    "\n",
    "model = DecisionTreeRegressor(max_depth = 9, min_samples_split = split)\n",
    "results = cross_val_score(model, X, Y, cv = kfold)\n",
    "print(results.mean())"
   ]
  },
  {
   "cell_type": "code",
   "execution_count": 71,
   "metadata": {},
   "outputs": [
    {
     "name": "stdout",
     "output_type": "stream",
     "text": [
      "0.813821754962228\n"
     ]
    }
   ],
   "source": [
    "split = 35\n",
    "\n",
    "model = DecisionTreeRegressor(max_depth = 9, min_samples_split = split)\n",
    "results = cross_val_score(model, X, Y, cv = kfold)\n",
    "print(results.mean())"
   ]
  },
  {
   "cell_type": "code",
   "execution_count": 72,
   "metadata": {},
   "outputs": [
    {
     "name": "stdout",
     "output_type": "stream",
     "text": [
      "0.8129999935332544\n"
     ]
    }
   ],
   "source": [
    "split = 40\n",
    "\n",
    "model = DecisionTreeRegressor(max_depth = 9, min_samples_split = split)\n",
    "results = cross_val_score(model, X, Y, cv = kfold)\n",
    "print(results.mean())"
   ]
  },
  {
   "cell_type": "code",
   "execution_count": 73,
   "metadata": {},
   "outputs": [
    {
     "name": "stdout",
     "output_type": "stream",
     "text": [
      "0.8136230801163018\n"
     ]
    }
   ],
   "source": [
    "split = 37\n",
    "\n",
    "model = DecisionTreeRegressor(max_depth = 9, min_samples_split = split)\n",
    "results = cross_val_score(model, X, Y, cv = kfold)\n",
    "print(results.mean())"
   ]
  },
  {
   "cell_type": "code",
   "execution_count": 74,
   "metadata": {},
   "outputs": [
    {
     "name": "stdout",
     "output_type": "stream",
     "text": [
      "0.8139997781796262\n"
     ]
    }
   ],
   "source": [
    "split = 33\n",
    "\n",
    "model = DecisionTreeRegressor(max_depth = 9, min_samples_split = split)\n",
    "results = cross_val_score(model, X, Y, cv = kfold)\n",
    "print(results.mean())"
   ]
  },
  {
   "cell_type": "code",
   "execution_count": 75,
   "metadata": {},
   "outputs": [
    {
     "name": "stdout",
     "output_type": "stream",
     "text": [
      "0.8137786665205955\n"
     ]
    }
   ],
   "source": [
    "split = 34\n",
    "\n",
    "model = DecisionTreeRegressor(max_depth = 9, min_samples_split = split)\n",
    "results = cross_val_score(model, X, Y, cv = kfold)\n",
    "print(results.mean())"
   ]
  },
  {
   "cell_type": "code",
   "execution_count": 76,
   "metadata": {},
   "outputs": [
    {
     "name": "stdout",
     "output_type": "stream",
     "text": [
      "0.8143679462224028\n"
     ]
    }
   ],
   "source": [
    "split = 36\n",
    "\n",
    "model = DecisionTreeRegressor(max_depth = 9, min_samples_split = split)\n",
    "results = cross_val_score(model, X, Y, cv = kfold)\n",
    "print(results.mean())"
   ]
  },
  {
   "cell_type": "code",
   "execution_count": 77,
   "metadata": {},
   "outputs": [
    {
     "name": "stdout",
     "output_type": "stream",
     "text": [
      "0.7888405853936363\n"
     ]
    }
   ],
   "source": [
    "# max features parameter\n",
    "\n",
    "feat = 5\n",
    "\n",
    "model = DecisionTreeRegressor(max_depth = 9, min_samples_split = 36, max_features = feat)\n",
    "results = cross_val_score(model, X, Y, cv = kfold)\n",
    "print(results.mean())"
   ]
  },
  {
   "cell_type": "code",
   "execution_count": 78,
   "metadata": {},
   "outputs": [
    {
     "name": "stdout",
     "output_type": "stream",
     "text": [
      "0.8142666661128503\n"
     ]
    }
   ],
   "source": [
    "feat = 8\n",
    "\n",
    "model = DecisionTreeRegressor(max_depth = 9, min_samples_split = 36, max_features = feat)\n",
    "results = cross_val_score(model, X, Y, cv = kfold)\n",
    "print(results.mean())"
   ]
  },
  {
   "cell_type": "code",
   "execution_count": 79,
   "metadata": {},
   "outputs": [
    {
     "name": "stdout",
     "output_type": "stream",
     "text": [
      "0.8143679462224028\n"
     ]
    }
   ],
   "source": [
    "feat = 10\n",
    "\n",
    "model = DecisionTreeRegressor(max_depth = 9, min_samples_split = 36, max_features = feat)\n",
    "results = cross_val_score(model, X, Y, cv = kfold)\n",
    "print(results.mean())"
   ]
  },
  {
   "cell_type": "code",
   "execution_count": 80,
   "metadata": {},
   "outputs": [
    {
     "name": "stdout",
     "output_type": "stream",
     "text": [
      "0.8073441065459858\n"
     ]
    }
   ],
   "source": [
    "feat = 9\n",
    "\n",
    "model = DecisionTreeRegressor(max_depth = 9, min_samples_split = 36, max_features = feat)\n",
    "results = cross_val_score(model, X, Y, cv = kfold)\n",
    "print(results.mean())"
   ]
  },
  {
   "cell_type": "code",
   "execution_count": 81,
   "metadata": {},
   "outputs": [
    {
     "name": "stdout",
     "output_type": "stream",
     "text": [
      "0.8098646366063517\n"
     ]
    }
   ],
   "source": [
    "feat = 7\n",
    "\n",
    "model = DecisionTreeRegressor(max_depth = 9, min_samples_split = 36, max_features = feat)\n",
    "results = cross_val_score(model, X, Y, cv = kfold)\n",
    "print(results.mean())"
   ]
  },
  {
   "cell_type": "code",
   "execution_count": 82,
   "metadata": {},
   "outputs": [
    {
     "name": "stdout",
     "output_type": "stream",
     "text": [
      "DTR: 81.15390642842087\n",
      "ETR: 87.3421769852915\n",
      "Average: 84.24804170685618\n"
     ]
    }
   ],
   "source": [
    "# tuned stack of base and ensemble methods\n",
    "\n",
    "array = bikesDF.values\n",
    "X = array[:,0:10]\n",
    "Y = array[:,10]\n",
    "\n",
    "kfold = KFold(n_splits = 8, random_state = 5, shuffle = True)\n",
    "\n",
    "modelOne = DecisionTreeRegressor(max_depth = 9, min_samples_split = 36, max_features = 9)\n",
    "modelTwo = ExtraTreesRegressor(n_estimators = 400, max_features = 7, min_samples_leaf = 1,\n",
    "                            min_samples_split = 2, max_depth = 17)\n",
    "\n",
    "# results for each model\n",
    "resultsOne = cross_val_score(modelOne, X, Y, cv = kfold, scoring = scoring)\n",
    "resultsTwo = cross_val_score(modelTwo, X, Y, cv = kfold, scoring = scoring)\n",
    "\n",
    "print('DTR:', resultsOne.mean() * 100)\n",
    "print('ETR:', resultsTwo.mean() * 100)\n",
    "\n",
    "# get the mean of both model scores as a combined performance\n",
    "meanScore = (resultsOne.mean() + resultsTwo.mean()) / 2\n",
    "print('Average:', meanScore * 100)"
   ]
  },
  {
   "cell_type": "markdown",
   "metadata": {},
   "source": [
    "# Holdout Data Testing"
   ]
  },
  {
   "cell_type": "code",
   "execution_count": 83,
   "metadata": {},
   "outputs": [
    {
     "data": {
      "text/html": [
       "<div>\n",
       "<style scoped>\n",
       "    .dataframe tbody tr th:only-of-type {\n",
       "        vertical-align: middle;\n",
       "    }\n",
       "\n",
       "    .dataframe tbody tr th {\n",
       "        vertical-align: top;\n",
       "    }\n",
       "\n",
       "    .dataframe thead th {\n",
       "        text-align: right;\n",
       "    }\n",
       "</style>\n",
       "<table border=\"1\" class=\"dataframe\">\n",
       "  <thead>\n",
       "    <tr style=\"text-align: right;\">\n",
       "      <th></th>\n",
       "      <th>Hour</th>\n",
       "      <th>Temperature(°C)</th>\n",
       "      <th>Humidity(%)</th>\n",
       "      <th>Wind Speed(m/s)</th>\n",
       "      <th>Visibility(10m)</th>\n",
       "      <th>Solar Radiation(MJ/m2)</th>\n",
       "      <th>Rainfall(mm)</th>\n",
       "      <th>Snowfall(cm)</th>\n",
       "      <th>Season</th>\n",
       "      <th>Holiday</th>\n",
       "      <th>Rented Bike Count</th>\n",
       "    </tr>\n",
       "  </thead>\n",
       "  <tbody>\n",
       "    <tr>\n",
       "      <th>1</th>\n",
       "      <td>16</td>\n",
       "      <td>34.1</td>\n",
       "      <td>52</td>\n",
       "      <td>2.5</td>\n",
       "      <td>1304</td>\n",
       "      <td>2.23</td>\n",
       "      <td>0.0</td>\n",
       "      <td>0.0</td>\n",
       "      <td>3</td>\n",
       "      <td>0</td>\n",
       "      <td>977</td>\n",
       "    </tr>\n",
       "    <tr>\n",
       "      <th>2</th>\n",
       "      <td>0</td>\n",
       "      <td>20.9</td>\n",
       "      <td>53</td>\n",
       "      <td>1.4</td>\n",
       "      <td>1717</td>\n",
       "      <td>0.0</td>\n",
       "      <td>0.0</td>\n",
       "      <td>0.0</td>\n",
       "      <td>3</td>\n",
       "      <td>0</td>\n",
       "      <td>1165</td>\n",
       "    </tr>\n",
       "    <tr>\n",
       "      <th>3</th>\n",
       "      <td>3</td>\n",
       "      <td>13.0</td>\n",
       "      <td>0</td>\n",
       "      <td>0.8</td>\n",
       "      <td>2000</td>\n",
       "      <td>0.0</td>\n",
       "      <td>0.0</td>\n",
       "      <td>0.0</td>\n",
       "      <td>2</td>\n",
       "      <td>0</td>\n",
       "      <td>165</td>\n",
       "    </tr>\n",
       "    <tr>\n",
       "      <th>4</th>\n",
       "      <td>4</td>\n",
       "      <td>25.9</td>\n",
       "      <td>71</td>\n",
       "      <td>0.3</td>\n",
       "      <td>2000</td>\n",
       "      <td>0.0</td>\n",
       "      <td>0.0</td>\n",
       "      <td>0.0</td>\n",
       "      <td>3</td>\n",
       "      <td>0</td>\n",
       "      <td>270</td>\n",
       "    </tr>\n",
       "    <tr>\n",
       "      <th>5</th>\n",
       "      <td>19</td>\n",
       "      <td>8.4</td>\n",
       "      <td>53</td>\n",
       "      <td>1.0</td>\n",
       "      <td>2000</td>\n",
       "      <td>0.0</td>\n",
       "      <td>0.0</td>\n",
       "      <td>0.0</td>\n",
       "      <td>4</td>\n",
       "      <td>0</td>\n",
       "      <td>1507</td>\n",
       "    </tr>\n",
       "  </tbody>\n",
       "</table>\n",
       "</div>"
      ],
      "text/plain": [
       "  Hour Temperature(°C) Humidity(%) Wind Speed(m/s) Visibility(10m)  \\\n",
       "1   16            34.1          52             2.5            1304   \n",
       "2    0            20.9          53             1.4            1717   \n",
       "3    3            13.0           0             0.8            2000   \n",
       "4    4            25.9          71             0.3            2000   \n",
       "5   19             8.4          53             1.0            2000   \n",
       "\n",
       "  Solar Radiation(MJ/m2) Rainfall(mm) Snowfall(cm)  Season  Holiday  \\\n",
       "1                   2.23          0.0          0.0       3        0   \n",
       "2                    0.0          0.0          0.0       3        0   \n",
       "3                    0.0          0.0          0.0       2        0   \n",
       "4                    0.0          0.0          0.0       3        0   \n",
       "5                    0.0          0.0          0.0       4        0   \n",
       "\n",
       "  Rented Bike Count  \n",
       "1               977  \n",
       "2              1165  \n",
       "3               165  \n",
       "4               270  \n",
       "5              1507  "
      ]
     },
     "execution_count": 83,
     "metadata": {},
     "output_type": "execute_result"
    }
   ],
   "source": [
    "# prepare holdout data for testing\n",
    "\n",
    "import pandas as pd\n",
    "from pandas import read_csv\n",
    "from sklearn.model_selection import KFold\n",
    "from sklearn.model_selection import cross_val_score\n",
    "from sklearn.tree import DecisionTreeRegressor\n",
    "from sklearn.ensemble import ExtraTreesRegressor\n",
    "from sklearn.ensemble import StackingRegressor\n",
    "\n",
    "# read data\n",
    "testName = \"/Users/mtjen/Desktop/dsci/testData.csv\"\n",
    "featureNames = ['Date', 'Rented Bike Count', 'Hour', 'Temperature(°C)', 'Humidity(%)', \n",
    "                'Wind Speed(m/s)', 'Visibility(10m)', 'Dew Point Temperature(°C)', \n",
    "                'Solar Radiation(MJ/m2)', 'Rainfall(mm)', 'Snowfall(cm)', 'Season', \n",
    "                'Holiday', 'Functioning Day']\n",
    "testDF = read_csv(testName, encoding = 'unicode_escape', names = featureNames)\n",
    "\n",
    "# drop the first row with old feature names\n",
    "testDF = testDF.iloc[1:]\n",
    "\n",
    "# move target feature to end of dataframe\n",
    "testCol = testDF.pop('Rented Bike Count')\n",
    "testDF.insert(13, 'Rented Bike Count', testCol)\n",
    "\n",
    "# replace string values with numerical boolean values\n",
    "testDF = testDF.replace(['No Holiday', 'Holiday', 'Winter', 'Spring', \n",
    "                           'Summer', 'Autumn', 'No', 'Yes'], \n",
    "                          [0, 1, 1, 2, 3, 4, 0, 1])\n",
    "\n",
    "# remove Date and Dew Point Temperature features as it closely correlates with Temperature\n",
    "testDF = testDF.drop(columns = [\"Date\", \"Dew Point Temperature(°C)\"])\n",
    "\n",
    "# get indexes of samples with a Functioning Day value of 0\n",
    "testIndex = testDF[~(testDF['Functioning Day'] == 1)].index\n",
    "\n",
    "# drop those samples from the data set\n",
    "testDF.drop(testIndex, inplace = True)\n",
    "\n",
    "# drop the functioning day feature\n",
    "testDF = testDF.drop(columns = [\"Functioning Day\"])\n",
    "\n",
    "testDF.head()"
   ]
  },
  {
   "cell_type": "code",
   "execution_count": 86,
   "metadata": {},
   "outputs": [
    {
     "name": "stdout",
     "output_type": "stream",
     "text": [
      "85.23329474119967\n"
     ]
    }
   ],
   "source": [
    "# prepare data for modeling\n",
    "testArray = testDF.values\n",
    "\n",
    "xTest = testArray[:,0:10]\n",
    "yTest = testArray[:,10]\n",
    "\n",
    "kfold = KFold(n_splits = 8, random_state = 5, shuffle = True)\n",
    "\n",
    "# sub models\n",
    "modelOne = DecisionTreeRegressor(max_depth = 9, min_samples_split = 36, max_features = 9)\n",
    "modelTwo = ExtraTreesRegressor(n_estimators = 400, max_features = 7, min_samples_leaf = 1,\n",
    "                            min_samples_split = 2, max_depth = 17)\n",
    "\n",
    "# fit the data\n",
    "modelOne.fit(X, Y)\n",
    "modelTwo.fit(X, Y)\n",
    "\n",
    "# score each model seperately\n",
    "scoreOne = modelOne.score(xTest, yTest)\n",
    "scoreTwo = modelTwo.score(xTest, yTest)\n",
    "\n",
    "# get the mean of both model scores as a combined performance\n",
    "meanScore = (scoreOne + scoreTwo) / 2\n",
    "print(meanScore * 100)"
   ]
  },
  {
   "cell_type": "code",
   "execution_count": null,
   "metadata": {},
   "outputs": [],
   "source": []
  }
 ],
 "metadata": {
  "kernelspec": {
   "display_name": "Python 3",
   "language": "python",
   "name": "python3"
  },
  "language_info": {
   "codemirror_mode": {
    "name": "ipython",
    "version": 3
   },
   "file_extension": ".py",
   "mimetype": "text/x-python",
   "name": "python",
   "nbconvert_exporter": "python",
   "pygments_lexer": "ipython3",
   "version": "3.8.5"
  }
 },
 "nbformat": 4,
 "nbformat_minor": 4
}
